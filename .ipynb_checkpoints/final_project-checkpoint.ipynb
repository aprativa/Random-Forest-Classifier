{
 "cells": [
  {
   "cell_type": "markdown",
   "metadata": {},
   "source": [
    "# Random Forest Classifier\n",
    "\n",
    "**Anushka Prativadhi**\n",
    "\n",
    "---\n",
    "<a rel=\"license\" href=\"http://creativecommons.org/licenses/by/4.0/\"><img alt=\"Creative Commons License\" style=\"border-width:0\" src=\"https://i.creativecommons.org/l/by/4.0/88x31.png\" /></a>\n",
    "<br />This work is licensed under a <a rel=\"license\" href=\"http://creativecommons.org/licenses/by/4.0/\">Creative Commons Attribution 4.0 International License</a>.\n"
   ]
  },
  {
   "cell_type": "code",
   "execution_count": 1,
   "metadata": {},
   "outputs": [],
   "source": [
    "# Standard imports for CDS 411 projects\n",
    "%matplotlib inline\n",
    "\n",
    "import matplotlib.pyplot as plt\n",
    "import numpy as np\n",
    "import pandas as pd\n",
    "import seaborn as sns\n",
    "\n",
    "# Place additional imports below this line\n",
    "from IPython.display import display, HTML\n",
    "from sklearn.ensemble import RandomForestClassifier\n",
    "from sklearn.model_selection import train_test_split\n",
    "from sklearn import metrics\n",
    "from sklearn.model_selection import RandomizedSearchCV,GridSearchCV\n",
    "from sklearn.tree import export_graphviz\n",
    "#to surpress the scikit learn warnings\n",
    "def warn(*args, **kwargs):\n",
    "    pass\n",
    "import warnings\n",
    "warnings.warn = warn\n",
    "# One-time install and activation of improved PDF\n",
    "# export template\n",
    "import template_install"
   ]
  },
  {
   "cell_type": "markdown",
   "metadata": {},
   "source": [
    "## Analysis of the problem"
   ]
  },
  {
   "cell_type": "markdown",
   "metadata": {},
   "source": [
    "The current scale used by to measure the severity of a tropical cyclone or a hurricane that is used by the National Hurricane Center(NHC) is called the *Saffir-Simpson Hurricane Wind Scale*. It was developed in the early 1970's by Herbert Saffir and is strictly a wind scale.[3] The scale categorizes the severity of a hurricane on a scale of 1 to 5 with 1 meaning minor damage and 5 being life threatening. The post-storm analysis conducted by the National Hurricane Center (NHC) contains each tropical cyclone in the Atlantic basis which comprises of the North Atlantic Ocean, the Gulf of Mexico, and the Caribbean Sea and the North Pacific Ocean. The dataset consists of snapshots of a given hurricane from 1851-2014 over intervals of time during its entire lifespan. The dataset does not have a prelabeled Category Column. The purpose of this project is to build a classification model that accurately categorizes the hurricanes strength and to find other variables that may play a role in determining the severity of a hurricane."
   ]
  },
  {
   "cell_type": "markdown",
   "metadata": {},
   "source": [
    "## Model design and solution"
   ]
  },
  {
   "cell_type": "markdown",
   "metadata": {},
   "source": [
    "The file named `atlantic.csv` can be downloaded from https://www.kaggle.com/noaa/hurricane-database."
   ]
  },
  {
   "cell_type": "markdown",
   "metadata": {},
   "source": [
    "Once downloaded, the `pandas` library is used to read the data and to preprocess before classification. Before making any changes, we look at the raw dataset."
   ]
  },
  {
   "cell_type": "code",
   "execution_count": 2,
   "metadata": {},
   "outputs": [
    {
     "data": {
      "text/html": [
       "<div>\n",
       "<style scoped>\n",
       "    .dataframe tbody tr th:only-of-type {\n",
       "        vertical-align: middle;\n",
       "    }\n",
       "\n",
       "    .dataframe tbody tr th {\n",
       "        vertical-align: top;\n",
       "    }\n",
       "\n",
       "    .dataframe thead th {\n",
       "        text-align: right;\n",
       "    }\n",
       "</style>\n",
       "<table border=\"1\" class=\"dataframe\">\n",
       "  <thead>\n",
       "    <tr style=\"text-align: right;\">\n",
       "      <th></th>\n",
       "      <th>ID</th>\n",
       "      <th>Name</th>\n",
       "      <th>Date</th>\n",
       "      <th>Time</th>\n",
       "      <th>Event</th>\n",
       "      <th>Status</th>\n",
       "      <th>Latitude</th>\n",
       "      <th>Longitude</th>\n",
       "      <th>Maximum Wind</th>\n",
       "      <th>Minimum Pressure</th>\n",
       "      <th>...</th>\n",
       "      <th>Low Wind SW</th>\n",
       "      <th>Low Wind NW</th>\n",
       "      <th>Moderate Wind NE</th>\n",
       "      <th>Moderate Wind SE</th>\n",
       "      <th>Moderate Wind SW</th>\n",
       "      <th>Moderate Wind NW</th>\n",
       "      <th>High Wind NE</th>\n",
       "      <th>High Wind SE</th>\n",
       "      <th>High Wind SW</th>\n",
       "      <th>High Wind NW</th>\n",
       "    </tr>\n",
       "  </thead>\n",
       "  <tbody>\n",
       "    <tr>\n",
       "      <th>0</th>\n",
       "      <td>AL011851</td>\n",
       "      <td>UNNAMED</td>\n",
       "      <td>18510625</td>\n",
       "      <td>0</td>\n",
       "      <td></td>\n",
       "      <td>HU</td>\n",
       "      <td>28.0N</td>\n",
       "      <td>94.8W</td>\n",
       "      <td>80</td>\n",
       "      <td>-999</td>\n",
       "      <td>...</td>\n",
       "      <td>-999</td>\n",
       "      <td>-999</td>\n",
       "      <td>-999</td>\n",
       "      <td>-999</td>\n",
       "      <td>-999</td>\n",
       "      <td>-999</td>\n",
       "      <td>-999</td>\n",
       "      <td>-999</td>\n",
       "      <td>-999</td>\n",
       "      <td>-999</td>\n",
       "    </tr>\n",
       "    <tr>\n",
       "      <th>1</th>\n",
       "      <td>AL011851</td>\n",
       "      <td>UNNAMED</td>\n",
       "      <td>18510625</td>\n",
       "      <td>600</td>\n",
       "      <td></td>\n",
       "      <td>HU</td>\n",
       "      <td>28.0N</td>\n",
       "      <td>95.4W</td>\n",
       "      <td>80</td>\n",
       "      <td>-999</td>\n",
       "      <td>...</td>\n",
       "      <td>-999</td>\n",
       "      <td>-999</td>\n",
       "      <td>-999</td>\n",
       "      <td>-999</td>\n",
       "      <td>-999</td>\n",
       "      <td>-999</td>\n",
       "      <td>-999</td>\n",
       "      <td>-999</td>\n",
       "      <td>-999</td>\n",
       "      <td>-999</td>\n",
       "    </tr>\n",
       "    <tr>\n",
       "      <th>2</th>\n",
       "      <td>AL011851</td>\n",
       "      <td>UNNAMED</td>\n",
       "      <td>18510625</td>\n",
       "      <td>1200</td>\n",
       "      <td></td>\n",
       "      <td>HU</td>\n",
       "      <td>28.0N</td>\n",
       "      <td>96.0W</td>\n",
       "      <td>80</td>\n",
       "      <td>-999</td>\n",
       "      <td>...</td>\n",
       "      <td>-999</td>\n",
       "      <td>-999</td>\n",
       "      <td>-999</td>\n",
       "      <td>-999</td>\n",
       "      <td>-999</td>\n",
       "      <td>-999</td>\n",
       "      <td>-999</td>\n",
       "      <td>-999</td>\n",
       "      <td>-999</td>\n",
       "      <td>-999</td>\n",
       "    </tr>\n",
       "    <tr>\n",
       "      <th>3</th>\n",
       "      <td>AL011851</td>\n",
       "      <td>UNNAMED</td>\n",
       "      <td>18510625</td>\n",
       "      <td>1800</td>\n",
       "      <td></td>\n",
       "      <td>HU</td>\n",
       "      <td>28.1N</td>\n",
       "      <td>96.5W</td>\n",
       "      <td>80</td>\n",
       "      <td>-999</td>\n",
       "      <td>...</td>\n",
       "      <td>-999</td>\n",
       "      <td>-999</td>\n",
       "      <td>-999</td>\n",
       "      <td>-999</td>\n",
       "      <td>-999</td>\n",
       "      <td>-999</td>\n",
       "      <td>-999</td>\n",
       "      <td>-999</td>\n",
       "      <td>-999</td>\n",
       "      <td>-999</td>\n",
       "    </tr>\n",
       "    <tr>\n",
       "      <th>4</th>\n",
       "      <td>AL011851</td>\n",
       "      <td>UNNAMED</td>\n",
       "      <td>18510625</td>\n",
       "      <td>2100</td>\n",
       "      <td>L</td>\n",
       "      <td>HU</td>\n",
       "      <td>28.2N</td>\n",
       "      <td>96.8W</td>\n",
       "      <td>80</td>\n",
       "      <td>-999</td>\n",
       "      <td>...</td>\n",
       "      <td>-999</td>\n",
       "      <td>-999</td>\n",
       "      <td>-999</td>\n",
       "      <td>-999</td>\n",
       "      <td>-999</td>\n",
       "      <td>-999</td>\n",
       "      <td>-999</td>\n",
       "      <td>-999</td>\n",
       "      <td>-999</td>\n",
       "      <td>-999</td>\n",
       "    </tr>\n",
       "  </tbody>\n",
       "</table>\n",
       "<p>5 rows × 22 columns</p>\n",
       "</div>"
      ],
      "text/plain": [
       "         ID                 Name      Date  Time Event Status Latitude  \\\n",
       "0  AL011851              UNNAMED  18510625     0           HU    28.0N   \n",
       "1  AL011851              UNNAMED  18510625   600           HU    28.0N   \n",
       "2  AL011851              UNNAMED  18510625  1200           HU    28.0N   \n",
       "3  AL011851              UNNAMED  18510625  1800           HU    28.1N   \n",
       "4  AL011851              UNNAMED  18510625  2100     L     HU    28.2N   \n",
       "\n",
       "  Longitude  Maximum Wind  Minimum Pressure      ...       Low Wind SW  \\\n",
       "0     94.8W            80              -999      ...              -999   \n",
       "1     95.4W            80              -999      ...              -999   \n",
       "2     96.0W            80              -999      ...              -999   \n",
       "3     96.5W            80              -999      ...              -999   \n",
       "4     96.8W            80              -999      ...              -999   \n",
       "\n",
       "   Low Wind NW  Moderate Wind NE  Moderate Wind SE  Moderate Wind SW  \\\n",
       "0         -999              -999              -999              -999   \n",
       "1         -999              -999              -999              -999   \n",
       "2         -999              -999              -999              -999   \n",
       "3         -999              -999              -999              -999   \n",
       "4         -999              -999              -999              -999   \n",
       "\n",
       "   Moderate Wind NW  High Wind NE  High Wind SE  High Wind SW  High Wind NW  \n",
       "0              -999          -999          -999          -999          -999  \n",
       "1              -999          -999          -999          -999          -999  \n",
       "2              -999          -999          -999          -999          -999  \n",
       "3              -999          -999          -999          -999          -999  \n",
       "4              -999          -999          -999          -999          -999  \n",
       "\n",
       "[5 rows x 22 columns]"
      ]
     },
     "execution_count": 2,
     "metadata": {},
     "output_type": "execute_result"
    }
   ],
   "source": [
    "read_atlantic = pd.read_csv(\"atlantic.csv\")\n",
    "read_atlantic.head()"
   ]
  },
  {
   "cell_type": "code",
   "execution_count": 3,
   "metadata": {},
   "outputs": [
    {
     "data": {
      "text/plain": [
       "(49105, 22)"
      ]
     },
     "execution_count": 3,
     "metadata": {},
     "output_type": "execute_result"
    }
   ],
   "source": [
    "read_atlantic.shape"
   ]
  },
  {
   "cell_type": "markdown",
   "metadata": {},
   "source": [
    "There are a total of 49105 rows and 22 columns in this dataframe. The location and behavior of a given hurricane or tropical storm is stored in multiple rows. The rows with missing values are given a value of -999 as a placeholder. The first two columns consist of the Name and ID of a given hurricane. There other rows are as follows:\n",
    "\n",
    "1. **Date** - Stored in the format YYYYMMDD, it is the date corresponding to the occurrence of the hurricane or tropical storm.[2]\n",
    "\n",
    "2. **Time** - The time (hours) in UTC (Universal Time Coordinate). Each row captures the behavior of the hurricane at a given time interval. [2]\n",
    "\n",
    "3. **Event** - `C` means that the tropical cyclone approaches the coast but does not make landfall, `L` indicates landfall, `I` indicates peak intensity for both pressure and wind, `G` indicates the genesis or beginning of the tropical cyclone, `P` indicates a minimum central pressure, a row marked with `R` provides with additional detail on the intenstiy during rapid changes, `S` indicates a change in the status of the system, a row marked with `T` provides additional detail on the position of the cyclone, and `W` indicates the row containing the maximum sustained wind speed of the cyclone. [2]\n",
    "\n",
    "4. **Status** - A `TD` indicates a tropical depression (< 34 knots), a `TS` indicates a tropical storm (34-63 knots), `HU` indicates a hurricane ( > 64 knots), `EX` indicates a Extratropical cyclone, `SD` indicates a subtropical depression ( < 34 knots), `SS` indicates a subtropical storm ( > 34 knots), `LO` indicates something that can neither be characterized as a tropical cyclone, a subtropical cyclone, or an extratropical cyclone, `WV` indicates a tropical wave of any intensity, `DB` indicates a disturbance. [2]\n",
    "\n",
    "5. **Latitude** - The Latitude of the tropical cyclone at the given time.[2]\n",
    "\n",
    "6. **Longitude** - The longitude of the tropical cyclone at the given time. [2]\n",
    "\n",
    "7. **Maximum Wind** - It is defined as the maximum 1-min average wind associated with the tropical cyclone at an elevation of 10 m with an unobstructed exposure. It is measured in knots. [2]\n",
    "\n",
    "8. **Minimum Pressure** - The minimum pressure of the tropical cyclone at a given time measured in millibars. [2]\n",
    "\n",
    "9. **Low Wind NE** - Maximum extent of 34 knots wind radii in the northeastern quadrant (in nautical miles)[2]\n",
    "\n",
    "10. **Low Wind SE** - Maximum extent of 34 knots wind radii in the southeastern quadrant (in nautical miles)[2]\n",
    "\n",
    "11. **Low Wind SW** - Maximum extent of 34 knots wind radii in the southwestern quadrant (in nautical miles)[2]\n",
    "\n",
    "12. **Low Wind NW** - Maximum extent of 34 knots wind radii in the northwestern quadrant (in nautical miles)[2]\n",
    "\n",
    "13. **Moderate Wind NE** - Maximum extent of 50 knots wind radii in the northeastern quadrant (in nautical miles)[2]\n",
    "\n",
    "14. **Moderate Wind SE** - Maximum extent of 50 knots wind radii in the southeastern quadrant (in nautical miles)[2]\n",
    "\n",
    "15. **Moderate Wind SW** - Maximum extent of 50 knots wind radii in the southwestern quadrant (in nautical miles)[2]\n",
    "\n",
    "16. **Moderate Wind NW** - Maximum extent of 50 knots wind radii in the northwestern quadrant (in nautical miles)[2]\n",
    "\n",
    "17. **High Wind NE** - Maximum extent of 64 knots wind radii in the northeastern quadrant (in nautical miles)[2]\n",
    "\n",
    "18. **High Wind SE** - Maximum extent of 64 knots wind radii in the southeastern quadrant (in nautical miles)[2]\n",
    "\n",
    "19. **High Wind SW** - Maximum extent of 64 knots wind radii in the southwestern quadrant (in nautical miles)[2]\n",
    "\n",
    "20. **High Wind NW** - Maximum extent of 64 knots wind radii in the northwestern quadrant (in nautical miles)[2]\n",
    "\n",
    "More information about these variables can be obtained from the file named `atlantic.pdf` from https://www.kaggle.com/noaa/hurricane-database."
   ]
  },
  {
   "cell_type": "code",
   "execution_count": 4,
   "metadata": {},
   "outputs": [],
   "source": [
    "#Making a copy of the original dataframe so that changes made to the copy \n",
    "#will not affect the original dataframe\n",
    "atlantic = read_atlantic.copy()"
   ]
  },
  {
   "cell_type": "markdown",
   "metadata": {},
   "source": [
    "<br> A new category column will now be created to aid in building the prediction model. </br>\n",
    "<br> The *Saffir-Simpson Hurrican Wind Scale* ,that is used by the NHC, will be used and it computes the Category based on the maximum Sustained Winds (measured in knots). </br>\n",
    "<br> As per the National Oceanic and Atmospheric Administration (NOAA) https://www.nhc.noaa.gov/aboutsshws.php, the Category classification is as follows:</br>\n",
    "<br> Category 1: 64 - 82 knots </br>\n",
    "<br> Category 2: 83 - 95 knots </br>\n",
    "<br> Category 3: 96 - 112 knots </br>\n",
    "<br> Category 4: 113 - 136 knots </br>\n",
    "<br> Category 5: >137 knots </br>"
   ]
  },
  {
   "cell_type": "markdown",
   "metadata": {},
   "source": [
    "This classification will be used to create the new `Category` column in the dataframe whose value depends on the `Maximum Wind` column."
   ]
  },
  {
   "cell_type": "code",
   "execution_count": 5,
   "metadata": {},
   "outputs": [],
   "source": [
    "pd.options.mode.chained_assignment = None\n",
    "def add_category(df):\n",
    "    df[\"Category\"] = 0\n",
    "    df.loc[(df[\"Maximum Wind\"] >= 64) & (df[\"Maximum Wind\"] <= 82),\n",
    "             \"Category\"] = int(1)\n",
    "    df.loc[(df[\"Maximum Wind\"] >= 83) & (df[\"Maximum Wind\"] <= 95),\n",
    "             \"Category\"] = int(2)\n",
    "    df.loc[(df[\"Maximum Wind\"] >= 96) & (df[\"Maximum Wind\"] <= 112), \n",
    "             \"Category\"] = int(3)\n",
    "    df.loc[(df[\"Maximum Wind\"] >= 113) & (df[\"Maximum Wind\"] <= 136),\n",
    "             \"Category\"] = int(4)\n",
    "    df.loc[(df[\"Maximum Wind\"] >= 136), \"Category\"] = int(5)\n",
    "    \n",
    "    return df\n",
    "\n",
    "atlantic = add_category(atlantic)"
   ]
  },
  {
   "cell_type": "markdown",
   "metadata": {},
   "source": [
    "<br> The `-999` values were used as a placeholder for missing values. The presence of these values in the dataframe, however, interfere with the model calculations and so they are replaced with a `Null` or `NaN` value. </br>\n",
    "<br> There also seems to be some whitespace in the columns with a string datatype which makes it hard to query these columns. Therefore, the whitespace is removed.</br>"
   ]
  },
  {
   "cell_type": "code",
   "execution_count": 6,
   "metadata": {},
   "outputs": [
    {
     "data": {
      "text/html": [
       "<div>\n",
       "<style scoped>\n",
       "    .dataframe tbody tr th:only-of-type {\n",
       "        vertical-align: middle;\n",
       "    }\n",
       "\n",
       "    .dataframe tbody tr th {\n",
       "        vertical-align: top;\n",
       "    }\n",
       "\n",
       "    .dataframe thead th {\n",
       "        text-align: right;\n",
       "    }\n",
       "</style>\n",
       "<table border=\"1\" class=\"dataframe\">\n",
       "  <thead>\n",
       "    <tr style=\"text-align: right;\">\n",
       "      <th></th>\n",
       "      <th>ID</th>\n",
       "      <th>Name</th>\n",
       "      <th>Date</th>\n",
       "      <th>Time</th>\n",
       "      <th>Event</th>\n",
       "      <th>Status</th>\n",
       "      <th>Latitude</th>\n",
       "      <th>Longitude</th>\n",
       "      <th>Maximum Wind</th>\n",
       "      <th>Minimum Pressure</th>\n",
       "      <th>...</th>\n",
       "      <th>Low Wind NW</th>\n",
       "      <th>Moderate Wind NE</th>\n",
       "      <th>Moderate Wind SE</th>\n",
       "      <th>Moderate Wind SW</th>\n",
       "      <th>Moderate Wind NW</th>\n",
       "      <th>High Wind NE</th>\n",
       "      <th>High Wind SE</th>\n",
       "      <th>High Wind SW</th>\n",
       "      <th>High Wind NW</th>\n",
       "      <th>Category</th>\n",
       "    </tr>\n",
       "  </thead>\n",
       "  <tbody>\n",
       "    <tr>\n",
       "      <th>0</th>\n",
       "      <td>AL011851</td>\n",
       "      <td>UNNAMED</td>\n",
       "      <td>18510625</td>\n",
       "      <td>0</td>\n",
       "      <td></td>\n",
       "      <td>HU</td>\n",
       "      <td>28.0N</td>\n",
       "      <td>94.8W</td>\n",
       "      <td>80</td>\n",
       "      <td>NaN</td>\n",
       "      <td>...</td>\n",
       "      <td>NaN</td>\n",
       "      <td>NaN</td>\n",
       "      <td>NaN</td>\n",
       "      <td>NaN</td>\n",
       "      <td>NaN</td>\n",
       "      <td>NaN</td>\n",
       "      <td>NaN</td>\n",
       "      <td>NaN</td>\n",
       "      <td>NaN</td>\n",
       "      <td>1</td>\n",
       "    </tr>\n",
       "    <tr>\n",
       "      <th>1</th>\n",
       "      <td>AL011851</td>\n",
       "      <td>UNNAMED</td>\n",
       "      <td>18510625</td>\n",
       "      <td>600</td>\n",
       "      <td></td>\n",
       "      <td>HU</td>\n",
       "      <td>28.0N</td>\n",
       "      <td>95.4W</td>\n",
       "      <td>80</td>\n",
       "      <td>NaN</td>\n",
       "      <td>...</td>\n",
       "      <td>NaN</td>\n",
       "      <td>NaN</td>\n",
       "      <td>NaN</td>\n",
       "      <td>NaN</td>\n",
       "      <td>NaN</td>\n",
       "      <td>NaN</td>\n",
       "      <td>NaN</td>\n",
       "      <td>NaN</td>\n",
       "      <td>NaN</td>\n",
       "      <td>1</td>\n",
       "    </tr>\n",
       "    <tr>\n",
       "      <th>2</th>\n",
       "      <td>AL011851</td>\n",
       "      <td>UNNAMED</td>\n",
       "      <td>18510625</td>\n",
       "      <td>1200</td>\n",
       "      <td></td>\n",
       "      <td>HU</td>\n",
       "      <td>28.0N</td>\n",
       "      <td>96.0W</td>\n",
       "      <td>80</td>\n",
       "      <td>NaN</td>\n",
       "      <td>...</td>\n",
       "      <td>NaN</td>\n",
       "      <td>NaN</td>\n",
       "      <td>NaN</td>\n",
       "      <td>NaN</td>\n",
       "      <td>NaN</td>\n",
       "      <td>NaN</td>\n",
       "      <td>NaN</td>\n",
       "      <td>NaN</td>\n",
       "      <td>NaN</td>\n",
       "      <td>1</td>\n",
       "    </tr>\n",
       "    <tr>\n",
       "      <th>3</th>\n",
       "      <td>AL011851</td>\n",
       "      <td>UNNAMED</td>\n",
       "      <td>18510625</td>\n",
       "      <td>1800</td>\n",
       "      <td></td>\n",
       "      <td>HU</td>\n",
       "      <td>28.1N</td>\n",
       "      <td>96.5W</td>\n",
       "      <td>80</td>\n",
       "      <td>NaN</td>\n",
       "      <td>...</td>\n",
       "      <td>NaN</td>\n",
       "      <td>NaN</td>\n",
       "      <td>NaN</td>\n",
       "      <td>NaN</td>\n",
       "      <td>NaN</td>\n",
       "      <td>NaN</td>\n",
       "      <td>NaN</td>\n",
       "      <td>NaN</td>\n",
       "      <td>NaN</td>\n",
       "      <td>1</td>\n",
       "    </tr>\n",
       "    <tr>\n",
       "      <th>4</th>\n",
       "      <td>AL011851</td>\n",
       "      <td>UNNAMED</td>\n",
       "      <td>18510625</td>\n",
       "      <td>2100</td>\n",
       "      <td>L</td>\n",
       "      <td>HU</td>\n",
       "      <td>28.2N</td>\n",
       "      <td>96.8W</td>\n",
       "      <td>80</td>\n",
       "      <td>NaN</td>\n",
       "      <td>...</td>\n",
       "      <td>NaN</td>\n",
       "      <td>NaN</td>\n",
       "      <td>NaN</td>\n",
       "      <td>NaN</td>\n",
       "      <td>NaN</td>\n",
       "      <td>NaN</td>\n",
       "      <td>NaN</td>\n",
       "      <td>NaN</td>\n",
       "      <td>NaN</td>\n",
       "      <td>1</td>\n",
       "    </tr>\n",
       "  </tbody>\n",
       "</table>\n",
       "<p>5 rows × 23 columns</p>\n",
       "</div>"
      ],
      "text/plain": [
       "         ID     Name      Date  Time Event Status Latitude Longitude  \\\n",
       "0  AL011851  UNNAMED  18510625     0           HU    28.0N     94.8W   \n",
       "1  AL011851  UNNAMED  18510625   600           HU    28.0N     95.4W   \n",
       "2  AL011851  UNNAMED  18510625  1200           HU    28.0N     96.0W   \n",
       "3  AL011851  UNNAMED  18510625  1800           HU    28.1N     96.5W   \n",
       "4  AL011851  UNNAMED  18510625  2100     L     HU    28.2N     96.8W   \n",
       "\n",
       "   Maximum Wind  Minimum Pressure    ...     Low Wind NW  Moderate Wind NE  \\\n",
       "0            80               NaN    ...             NaN               NaN   \n",
       "1            80               NaN    ...             NaN               NaN   \n",
       "2            80               NaN    ...             NaN               NaN   \n",
       "3            80               NaN    ...             NaN               NaN   \n",
       "4            80               NaN    ...             NaN               NaN   \n",
       "\n",
       "   Moderate Wind SE  Moderate Wind SW  Moderate Wind NW  High Wind NE  \\\n",
       "0               NaN               NaN               NaN           NaN   \n",
       "1               NaN               NaN               NaN           NaN   \n",
       "2               NaN               NaN               NaN           NaN   \n",
       "3               NaN               NaN               NaN           NaN   \n",
       "4               NaN               NaN               NaN           NaN   \n",
       "\n",
       "   High Wind SE  High Wind SW  High Wind NW  Category  \n",
       "0           NaN           NaN           NaN         1  \n",
       "1           NaN           NaN           NaN         1  \n",
       "2           NaN           NaN           NaN         1  \n",
       "3           NaN           NaN           NaN         1  \n",
       "4           NaN           NaN           NaN         1  \n",
       "\n",
       "[5 rows x 23 columns]"
      ]
     },
     "execution_count": 6,
     "metadata": {},
     "output_type": "execute_result"
    }
   ],
   "source": [
    "def clean_df(df):\n",
    "    #Replace -999 with np.nan \n",
    "    df_filtered = df.replace(-999, np.nan)\n",
    "    #Removing whitespace\n",
    "    df_filtered[\"Name\"] = df_filtered[\"Name\"].str.strip()\n",
    "    df_filtered[\"Event\"] = df_filtered[\"Event\"].str.strip()\n",
    "    df_filtered[\"Status\"] = df_filtered[\"Status\"].str.strip()\n",
    "    \n",
    "    return df_filtered\n",
    "\n",
    "atlantic_filtered = clean_df(atlantic)\n",
    "atlantic_filtered.head()"
   ]
  },
  {
   "cell_type": "markdown",
   "metadata": {},
   "source": [
    "The new column \"Category\" is added to the dataframe and is true to the Saffi Hurricane Wind Scale. The -999 values have been replaced with Null values for easier computation, whitespace was removed from the columns with datatype string."
   ]
  },
  {
   "cell_type": "markdown",
   "metadata": {},
   "source": [
    "It was hypothesized that the total duration or lifetime of a tropical cyclone may affect its Category because Category essentially is a variable that accounts for the strength of a tropical cyclone. There are two time related columns, one being `Date` and the other being `Time`. The goal is to compute the total lifetime of a given cyclone in hours. In order to do that the `Date` and `Time` columns are combined and the dataset is grouped by the Cyclone `ID`."
   ]
  },
  {
   "cell_type": "code",
   "execution_count": 7,
   "metadata": {},
   "outputs": [
    {
     "data": {
      "text/html": [
       "<div>\n",
       "<style scoped>\n",
       "    .dataframe tbody tr th:only-of-type {\n",
       "        vertical-align: middle;\n",
       "    }\n",
       "\n",
       "    .dataframe tbody tr th {\n",
       "        vertical-align: top;\n",
       "    }\n",
       "\n",
       "    .dataframe thead th {\n",
       "        text-align: right;\n",
       "    }\n",
       "</style>\n",
       "<table border=\"1\" class=\"dataframe\">\n",
       "  <thead>\n",
       "    <tr style=\"text-align: right;\">\n",
       "      <th></th>\n",
       "      <th>ID</th>\n",
       "      <th>Name</th>\n",
       "      <th>Date</th>\n",
       "      <th>Time</th>\n",
       "      <th>Event</th>\n",
       "      <th>Status</th>\n",
       "      <th>Latitude</th>\n",
       "      <th>Longitude</th>\n",
       "      <th>Maximum Wind</th>\n",
       "      <th>Minimum Pressure</th>\n",
       "      <th>...</th>\n",
       "      <th>Moderate Wind NE</th>\n",
       "      <th>Moderate Wind SE</th>\n",
       "      <th>Moderate Wind SW</th>\n",
       "      <th>Moderate Wind NW</th>\n",
       "      <th>High Wind NE</th>\n",
       "      <th>High Wind SE</th>\n",
       "      <th>High Wind SW</th>\n",
       "      <th>High Wind NW</th>\n",
       "      <th>Category</th>\n",
       "      <th>DateTime</th>\n",
       "    </tr>\n",
       "  </thead>\n",
       "  <tbody>\n",
       "    <tr>\n",
       "      <th>0</th>\n",
       "      <td>AL011851</td>\n",
       "      <td>UNNAMED</td>\n",
       "      <td>18510625</td>\n",
       "      <td>0000</td>\n",
       "      <td></td>\n",
       "      <td>HU</td>\n",
       "      <td>28.0N</td>\n",
       "      <td>94.8W</td>\n",
       "      <td>80</td>\n",
       "      <td>NaN</td>\n",
       "      <td>...</td>\n",
       "      <td>NaN</td>\n",
       "      <td>NaN</td>\n",
       "      <td>NaN</td>\n",
       "      <td>NaN</td>\n",
       "      <td>NaN</td>\n",
       "      <td>NaN</td>\n",
       "      <td>NaN</td>\n",
       "      <td>NaN</td>\n",
       "      <td>1</td>\n",
       "      <td>1851-06-25 00:00:00</td>\n",
       "    </tr>\n",
       "    <tr>\n",
       "      <th>1</th>\n",
       "      <td>AL011851</td>\n",
       "      <td>UNNAMED</td>\n",
       "      <td>18510625</td>\n",
       "      <td>0600</td>\n",
       "      <td></td>\n",
       "      <td>HU</td>\n",
       "      <td>28.0N</td>\n",
       "      <td>95.4W</td>\n",
       "      <td>80</td>\n",
       "      <td>NaN</td>\n",
       "      <td>...</td>\n",
       "      <td>NaN</td>\n",
       "      <td>NaN</td>\n",
       "      <td>NaN</td>\n",
       "      <td>NaN</td>\n",
       "      <td>NaN</td>\n",
       "      <td>NaN</td>\n",
       "      <td>NaN</td>\n",
       "      <td>NaN</td>\n",
       "      <td>1</td>\n",
       "      <td>1851-06-25 06:00:00</td>\n",
       "    </tr>\n",
       "    <tr>\n",
       "      <th>2</th>\n",
       "      <td>AL011851</td>\n",
       "      <td>UNNAMED</td>\n",
       "      <td>18510625</td>\n",
       "      <td>1200</td>\n",
       "      <td></td>\n",
       "      <td>HU</td>\n",
       "      <td>28.0N</td>\n",
       "      <td>96.0W</td>\n",
       "      <td>80</td>\n",
       "      <td>NaN</td>\n",
       "      <td>...</td>\n",
       "      <td>NaN</td>\n",
       "      <td>NaN</td>\n",
       "      <td>NaN</td>\n",
       "      <td>NaN</td>\n",
       "      <td>NaN</td>\n",
       "      <td>NaN</td>\n",
       "      <td>NaN</td>\n",
       "      <td>NaN</td>\n",
       "      <td>1</td>\n",
       "      <td>1851-06-25 12:00:00</td>\n",
       "    </tr>\n",
       "    <tr>\n",
       "      <th>3</th>\n",
       "      <td>AL011851</td>\n",
       "      <td>UNNAMED</td>\n",
       "      <td>18510625</td>\n",
       "      <td>1800</td>\n",
       "      <td></td>\n",
       "      <td>HU</td>\n",
       "      <td>28.1N</td>\n",
       "      <td>96.5W</td>\n",
       "      <td>80</td>\n",
       "      <td>NaN</td>\n",
       "      <td>...</td>\n",
       "      <td>NaN</td>\n",
       "      <td>NaN</td>\n",
       "      <td>NaN</td>\n",
       "      <td>NaN</td>\n",
       "      <td>NaN</td>\n",
       "      <td>NaN</td>\n",
       "      <td>NaN</td>\n",
       "      <td>NaN</td>\n",
       "      <td>1</td>\n",
       "      <td>1851-06-25 18:00:00</td>\n",
       "    </tr>\n",
       "    <tr>\n",
       "      <th>4</th>\n",
       "      <td>AL011851</td>\n",
       "      <td>UNNAMED</td>\n",
       "      <td>18510625</td>\n",
       "      <td>2100</td>\n",
       "      <td>L</td>\n",
       "      <td>HU</td>\n",
       "      <td>28.2N</td>\n",
       "      <td>96.8W</td>\n",
       "      <td>80</td>\n",
       "      <td>NaN</td>\n",
       "      <td>...</td>\n",
       "      <td>NaN</td>\n",
       "      <td>NaN</td>\n",
       "      <td>NaN</td>\n",
       "      <td>NaN</td>\n",
       "      <td>NaN</td>\n",
       "      <td>NaN</td>\n",
       "      <td>NaN</td>\n",
       "      <td>NaN</td>\n",
       "      <td>1</td>\n",
       "      <td>1851-06-25 21:00:00</td>\n",
       "    </tr>\n",
       "  </tbody>\n",
       "</table>\n",
       "<p>5 rows × 24 columns</p>\n",
       "</div>"
      ],
      "text/plain": [
       "         ID     Name      Date  Time Event Status Latitude Longitude  \\\n",
       "0  AL011851  UNNAMED  18510625  0000           HU    28.0N     94.8W   \n",
       "1  AL011851  UNNAMED  18510625  0600           HU    28.0N     95.4W   \n",
       "2  AL011851  UNNAMED  18510625  1200           HU    28.0N     96.0W   \n",
       "3  AL011851  UNNAMED  18510625  1800           HU    28.1N     96.5W   \n",
       "4  AL011851  UNNAMED  18510625  2100     L     HU    28.2N     96.8W   \n",
       "\n",
       "   Maximum Wind  Minimum Pressure         ...          Moderate Wind NE  \\\n",
       "0            80               NaN         ...                       NaN   \n",
       "1            80               NaN         ...                       NaN   \n",
       "2            80               NaN         ...                       NaN   \n",
       "3            80               NaN         ...                       NaN   \n",
       "4            80               NaN         ...                       NaN   \n",
       "\n",
       "   Moderate Wind SE  Moderate Wind SW  Moderate Wind NW  High Wind NE  \\\n",
       "0               NaN               NaN               NaN           NaN   \n",
       "1               NaN               NaN               NaN           NaN   \n",
       "2               NaN               NaN               NaN           NaN   \n",
       "3               NaN               NaN               NaN           NaN   \n",
       "4               NaN               NaN               NaN           NaN   \n",
       "\n",
       "   High Wind SE  High Wind SW  High Wind NW  Category            DateTime  \n",
       "0           NaN           NaN           NaN         1 1851-06-25 00:00:00  \n",
       "1           NaN           NaN           NaN         1 1851-06-25 06:00:00  \n",
       "2           NaN           NaN           NaN         1 1851-06-25 12:00:00  \n",
       "3           NaN           NaN           NaN         1 1851-06-25 18:00:00  \n",
       "4           NaN           NaN           NaN         1 1851-06-25 21:00:00  \n",
       "\n",
       "[5 rows x 24 columns]"
      ]
     },
     "execution_count": 7,
     "metadata": {},
     "output_type": "execute_result"
    }
   ],
   "source": [
    "def date_time(df_filtered):\n",
    "    #Converting Time and Date columns to strings\n",
    "    df_filtered[\"Date\"] = df_filtered[\"Date\"].astype(str)\n",
    "    df_filtered[\"Time\"] = df_filtered[\"Time\"].astype(str)\n",
    "    df_filtered[\"Time\"] = df_filtered[\"Time\"].str.zfill(4)\n",
    "    df_filtered.set_index(\"ID\")\n",
    "    #combining the Date and Time column\n",
    "    df_filtered[\"DateTime\"] = df_filtered[\"Date\"] + df_filtered[\"Time\"]\n",
    "    #changing the datatype of this column to pandas Datetime\n",
    "    df_filtered[\"DateTime\"] = pd.to_datetime(df_filtered[\"DateTime\"], \n",
    "                                             format = \"%Y%m%d%H%M\")\n",
    "    \n",
    "    return df_filtered\n",
    "\n",
    "atlantic_filtered = date_time(atlantic_filtered)\n",
    "atlantic_filtered.head()"
   ]
  },
  {
   "cell_type": "markdown",
   "metadata": {},
   "source": [
    "After grouping the columns together, the difference in the `DateTime` between the last row and the first row of a hurricane is calculated.This difference is stored in a variable called `duration` and the `Lifetime` of a hurricane is then computed in hours."
   ]
  },
  {
   "cell_type": "code",
   "execution_count": 8,
   "metadata": {},
   "outputs": [
    {
     "data": {
      "text/html": [
       "<div>\n",
       "<style scoped>\n",
       "    .dataframe tbody tr th:only-of-type {\n",
       "        vertical-align: middle;\n",
       "    }\n",
       "\n",
       "    .dataframe tbody tr th {\n",
       "        vertical-align: top;\n",
       "    }\n",
       "\n",
       "    .dataframe thead th {\n",
       "        text-align: right;\n",
       "    }\n",
       "</style>\n",
       "<table border=\"1\" class=\"dataframe\">\n",
       "  <thead>\n",
       "    <tr style=\"text-align: right;\">\n",
       "      <th></th>\n",
       "      <th>ID</th>\n",
       "      <th>Lifetime</th>\n",
       "      <th>Lifetime_hours</th>\n",
       "    </tr>\n",
       "  </thead>\n",
       "  <tbody>\n",
       "    <tr>\n",
       "      <th>0</th>\n",
       "      <td>AL011851</td>\n",
       "      <td>3 days 00:00:00</td>\n",
       "      <td>72.0</td>\n",
       "    </tr>\n",
       "    <tr>\n",
       "      <th>1</th>\n",
       "      <td>AL011852</td>\n",
       "      <td>11 days 00:00:00</td>\n",
       "      <td>264.0</td>\n",
       "    </tr>\n",
       "    <tr>\n",
       "      <th>2</th>\n",
       "      <td>AL011853</td>\n",
       "      <td>0 days 00:00:00</td>\n",
       "      <td>0.0</td>\n",
       "    </tr>\n",
       "    <tr>\n",
       "      <th>3</th>\n",
       "      <td>AL011854</td>\n",
       "      <td>2 days 12:00:00</td>\n",
       "      <td>60.0</td>\n",
       "    </tr>\n",
       "    <tr>\n",
       "      <th>4</th>\n",
       "      <td>AL011855</td>\n",
       "      <td>0 days 00:00:00</td>\n",
       "      <td>0.0</td>\n",
       "    </tr>\n",
       "  </tbody>\n",
       "</table>\n",
       "</div>"
      ],
      "text/plain": [
       "         ID         Lifetime  Lifetime_hours\n",
       "0  AL011851  3 days 00:00:00            72.0\n",
       "1  AL011852 11 days 00:00:00           264.0\n",
       "2  AL011853  0 days 00:00:00             0.0\n",
       "3  AL011854  2 days 12:00:00            60.0\n",
       "4  AL011855  0 days 00:00:00             0.0"
      ]
     },
     "execution_count": 8,
     "metadata": {},
     "output_type": "execute_result"
    }
   ],
   "source": [
    "def lifetime_hours(df_filtered):    \n",
    "    #group hurricanes by ID\n",
    "    hurricanes_grouped = df_filtered[[\"ID\",\"DateTime\"]].groupby([\"ID\"])\n",
    "    duration = hurricanes_grouped.last() - hurricanes_grouped.first()\n",
    "    duration = duration.reset_index()\n",
    "    duration.columns = [\"ID\", \"Lifetime\"]\n",
    "    #Converting duration from days to hours\n",
    "    duration[\"Lifetime_hours\"] = duration[\"Lifetime\"] / np.timedelta64(1, \"h\")\n",
    "    #setting ID as index to join this with the original df\n",
    "    \n",
    "    return duration\n",
    "\n",
    "duration = lifetime_hours(atlantic_filtered)\n",
    "duration.set_index(\"ID\")\n",
    "duration.head()"
   ]
  },
  {
   "cell_type": "markdown",
   "metadata": {},
   "source": [
    "Now that the lifetime in hours has been computed, the `duration` dataframe is merged with the `atlantic_filtered` dataframe to form the `final_atlantic` dataframe.The head of the new `final_atlantic` dataframe is printed below:"
   ]
  },
  {
   "cell_type": "code",
   "execution_count": 9,
   "metadata": {},
   "outputs": [
    {
     "data": {
      "text/html": [
       "<div>\n",
       "<style scoped>\n",
       "    .dataframe tbody tr th:only-of-type {\n",
       "        vertical-align: middle;\n",
       "    }\n",
       "\n",
       "    .dataframe tbody tr th {\n",
       "        vertical-align: top;\n",
       "    }\n",
       "\n",
       "    .dataframe thead th {\n",
       "        text-align: right;\n",
       "    }\n",
       "</style>\n",
       "<table border=\"1\" class=\"dataframe\">\n",
       "  <thead>\n",
       "    <tr style=\"text-align: right;\">\n",
       "      <th></th>\n",
       "      <th>ID</th>\n",
       "      <th>Name</th>\n",
       "      <th>Date</th>\n",
       "      <th>Time</th>\n",
       "      <th>Event</th>\n",
       "      <th>Status</th>\n",
       "      <th>Latitude</th>\n",
       "      <th>Longitude</th>\n",
       "      <th>Maximum Wind</th>\n",
       "      <th>Minimum Pressure</th>\n",
       "      <th>...</th>\n",
       "      <th>Moderate Wind SW</th>\n",
       "      <th>Moderate Wind NW</th>\n",
       "      <th>High Wind NE</th>\n",
       "      <th>High Wind SE</th>\n",
       "      <th>High Wind SW</th>\n",
       "      <th>High Wind NW</th>\n",
       "      <th>Category</th>\n",
       "      <th>DateTime</th>\n",
       "      <th>Lifetime</th>\n",
       "      <th>Lifetime_hours</th>\n",
       "    </tr>\n",
       "  </thead>\n",
       "  <tbody>\n",
       "    <tr>\n",
       "      <th>0</th>\n",
       "      <td>AL011851</td>\n",
       "      <td>UNNAMED</td>\n",
       "      <td>18510625</td>\n",
       "      <td>0000</td>\n",
       "      <td></td>\n",
       "      <td>HU</td>\n",
       "      <td>28.0N</td>\n",
       "      <td>94.8W</td>\n",
       "      <td>80</td>\n",
       "      <td>NaN</td>\n",
       "      <td>...</td>\n",
       "      <td>NaN</td>\n",
       "      <td>NaN</td>\n",
       "      <td>NaN</td>\n",
       "      <td>NaN</td>\n",
       "      <td>NaN</td>\n",
       "      <td>NaN</td>\n",
       "      <td>1</td>\n",
       "      <td>1851-06-25 00:00:00</td>\n",
       "      <td>3 days</td>\n",
       "      <td>72.0</td>\n",
       "    </tr>\n",
       "    <tr>\n",
       "      <th>1</th>\n",
       "      <td>AL011851</td>\n",
       "      <td>UNNAMED</td>\n",
       "      <td>18510625</td>\n",
       "      <td>0600</td>\n",
       "      <td></td>\n",
       "      <td>HU</td>\n",
       "      <td>28.0N</td>\n",
       "      <td>95.4W</td>\n",
       "      <td>80</td>\n",
       "      <td>NaN</td>\n",
       "      <td>...</td>\n",
       "      <td>NaN</td>\n",
       "      <td>NaN</td>\n",
       "      <td>NaN</td>\n",
       "      <td>NaN</td>\n",
       "      <td>NaN</td>\n",
       "      <td>NaN</td>\n",
       "      <td>1</td>\n",
       "      <td>1851-06-25 06:00:00</td>\n",
       "      <td>3 days</td>\n",
       "      <td>72.0</td>\n",
       "    </tr>\n",
       "    <tr>\n",
       "      <th>2</th>\n",
       "      <td>AL011851</td>\n",
       "      <td>UNNAMED</td>\n",
       "      <td>18510625</td>\n",
       "      <td>1200</td>\n",
       "      <td></td>\n",
       "      <td>HU</td>\n",
       "      <td>28.0N</td>\n",
       "      <td>96.0W</td>\n",
       "      <td>80</td>\n",
       "      <td>NaN</td>\n",
       "      <td>...</td>\n",
       "      <td>NaN</td>\n",
       "      <td>NaN</td>\n",
       "      <td>NaN</td>\n",
       "      <td>NaN</td>\n",
       "      <td>NaN</td>\n",
       "      <td>NaN</td>\n",
       "      <td>1</td>\n",
       "      <td>1851-06-25 12:00:00</td>\n",
       "      <td>3 days</td>\n",
       "      <td>72.0</td>\n",
       "    </tr>\n",
       "    <tr>\n",
       "      <th>3</th>\n",
       "      <td>AL011851</td>\n",
       "      <td>UNNAMED</td>\n",
       "      <td>18510625</td>\n",
       "      <td>1800</td>\n",
       "      <td></td>\n",
       "      <td>HU</td>\n",
       "      <td>28.1N</td>\n",
       "      <td>96.5W</td>\n",
       "      <td>80</td>\n",
       "      <td>NaN</td>\n",
       "      <td>...</td>\n",
       "      <td>NaN</td>\n",
       "      <td>NaN</td>\n",
       "      <td>NaN</td>\n",
       "      <td>NaN</td>\n",
       "      <td>NaN</td>\n",
       "      <td>NaN</td>\n",
       "      <td>1</td>\n",
       "      <td>1851-06-25 18:00:00</td>\n",
       "      <td>3 days</td>\n",
       "      <td>72.0</td>\n",
       "    </tr>\n",
       "    <tr>\n",
       "      <th>4</th>\n",
       "      <td>AL011851</td>\n",
       "      <td>UNNAMED</td>\n",
       "      <td>18510625</td>\n",
       "      <td>2100</td>\n",
       "      <td>L</td>\n",
       "      <td>HU</td>\n",
       "      <td>28.2N</td>\n",
       "      <td>96.8W</td>\n",
       "      <td>80</td>\n",
       "      <td>NaN</td>\n",
       "      <td>...</td>\n",
       "      <td>NaN</td>\n",
       "      <td>NaN</td>\n",
       "      <td>NaN</td>\n",
       "      <td>NaN</td>\n",
       "      <td>NaN</td>\n",
       "      <td>NaN</td>\n",
       "      <td>1</td>\n",
       "      <td>1851-06-25 21:00:00</td>\n",
       "      <td>3 days</td>\n",
       "      <td>72.0</td>\n",
       "    </tr>\n",
       "  </tbody>\n",
       "</table>\n",
       "<p>5 rows × 26 columns</p>\n",
       "</div>"
      ],
      "text/plain": [
       "         ID     Name      Date  Time Event Status Latitude Longitude  \\\n",
       "0  AL011851  UNNAMED  18510625  0000           HU    28.0N     94.8W   \n",
       "1  AL011851  UNNAMED  18510625  0600           HU    28.0N     95.4W   \n",
       "2  AL011851  UNNAMED  18510625  1200           HU    28.0N     96.0W   \n",
       "3  AL011851  UNNAMED  18510625  1800           HU    28.1N     96.5W   \n",
       "4  AL011851  UNNAMED  18510625  2100     L     HU    28.2N     96.8W   \n",
       "\n",
       "   Maximum Wind  Minimum Pressure       ...        Moderate Wind SW  \\\n",
       "0            80               NaN       ...                     NaN   \n",
       "1            80               NaN       ...                     NaN   \n",
       "2            80               NaN       ...                     NaN   \n",
       "3            80               NaN       ...                     NaN   \n",
       "4            80               NaN       ...                     NaN   \n",
       "\n",
       "   Moderate Wind NW  High Wind NE  High Wind SE  High Wind SW  High Wind NW  \\\n",
       "0               NaN           NaN           NaN           NaN           NaN   \n",
       "1               NaN           NaN           NaN           NaN           NaN   \n",
       "2               NaN           NaN           NaN           NaN           NaN   \n",
       "3               NaN           NaN           NaN           NaN           NaN   \n",
       "4               NaN           NaN           NaN           NaN           NaN   \n",
       "\n",
       "   Category            DateTime  Lifetime  Lifetime_hours  \n",
       "0         1 1851-06-25 00:00:00    3 days            72.0  \n",
       "1         1 1851-06-25 06:00:00    3 days            72.0  \n",
       "2         1 1851-06-25 12:00:00    3 days            72.0  \n",
       "3         1 1851-06-25 18:00:00    3 days            72.0  \n",
       "4         1 1851-06-25 21:00:00    3 days            72.0  \n",
       "\n",
       "[5 rows x 26 columns]"
      ]
     },
     "execution_count": 9,
     "metadata": {},
     "output_type": "execute_result"
    }
   ],
   "source": [
    "def merge_dataframes(df_filtered, time_df):\n",
    "    final_merged = pd.merge(df_filtered,time_df,on = [\"ID\"],how = \"left\")\n",
    "    \n",
    "    return final_merged\n",
    "\n",
    "final_atlantic = merge_dataframes(atlantic_filtered,duration)\n",
    "final_atlantic.head()"
   ]
  },
  {
   "cell_type": "markdown",
   "metadata": {},
   "source": [
    "The `final_atlantic` dataframe consists of all of the tropical cyclone events in the atlantic. In order to make a comparison between all tropical events and only hurricanes, a new dataframe called `hurricanes` is made which consists of only rows whose `Status` is marked as `HU` indicating Hurricane."
   ]
  },
  {
   "cell_type": "code",
   "execution_count": 10,
   "metadata": {},
   "outputs": [],
   "source": [
    "hurricanes = final_atlantic.loc[final_atlantic[\"Status\"] == \"HU\"]\n",
    "hurricanes = final_atlantic[['Maximum Wind', 'Minimum Pressure', 'Low Wind NE',\n",
    "                             'Low Wind SE', 'Low Wind SW', 'Low Wind NW', \n",
    "                             'Moderate Wind NE','Moderate Wind SE', 'Moderate Wind SW', \n",
    "                             'Moderate Wind NW','High Wind NE', 'High Wind SE', \n",
    "                             'High Wind SW', 'High Wind NW','Lifetime_hours']]"
   ]
  },
  {
   "cell_type": "markdown",
   "metadata": {},
   "source": [
    "To build a classification model, we used the `sci-kit learn` package. The `sci-kit learn` package does not allow for the presence of Null values for analysis so the Null values are replaced with the mean of the respective column. \n",
    "\n",
    "<br> Two variables called `labels` and `features` are also defined. `labels` is the prelabeled `Category` of the dataset and `features` is the variables that will be used to train and predict the labels. </br>"
   ]
  },
  {
   "cell_type": "code",
   "execution_count": 11,
   "metadata": {},
   "outputs": [
    {
     "data": {
      "text/html": [
       "<div>\n",
       "<style scoped>\n",
       "    .dataframe tbody tr th:only-of-type {\n",
       "        vertical-align: middle;\n",
       "    }\n",
       "\n",
       "    .dataframe tbody tr th {\n",
       "        vertical-align: top;\n",
       "    }\n",
       "\n",
       "    .dataframe thead th {\n",
       "        text-align: right;\n",
       "    }\n",
       "</style>\n",
       "<table border=\"1\" class=\"dataframe\">\n",
       "  <thead>\n",
       "    <tr style=\"text-align: right;\">\n",
       "      <th></th>\n",
       "      <th>Maximum Wind</th>\n",
       "      <th>Minimum Pressure</th>\n",
       "      <th>Low Wind NE</th>\n",
       "      <th>Low Wind SE</th>\n",
       "      <th>Low Wind SW</th>\n",
       "      <th>Low Wind NW</th>\n",
       "      <th>Moderate Wind NE</th>\n",
       "      <th>Moderate Wind SE</th>\n",
       "      <th>Moderate Wind SW</th>\n",
       "      <th>Moderate Wind NW</th>\n",
       "      <th>High Wind NE</th>\n",
       "      <th>High Wind SE</th>\n",
       "      <th>High Wind SW</th>\n",
       "      <th>High Wind NW</th>\n",
       "      <th>Lifetime_hours</th>\n",
       "    </tr>\n",
       "  </thead>\n",
       "  <tbody>\n",
       "    <tr>\n",
       "      <th>0</th>\n",
       "      <td>80</td>\n",
       "      <td>992.24425</td>\n",
       "      <td>81.865394</td>\n",
       "      <td>76.518325</td>\n",
       "      <td>48.647188</td>\n",
       "      <td>59.156393</td>\n",
       "      <td>24.641952</td>\n",
       "      <td>23.029894</td>\n",
       "      <td>15.427293</td>\n",
       "      <td>18.403141</td>\n",
       "      <td>8.110117</td>\n",
       "      <td>7.35771</td>\n",
       "      <td>5.13089</td>\n",
       "      <td>6.269211</td>\n",
       "      <td>72.0</td>\n",
       "    </tr>\n",
       "    <tr>\n",
       "      <th>1</th>\n",
       "      <td>80</td>\n",
       "      <td>992.24425</td>\n",
       "      <td>81.865394</td>\n",
       "      <td>76.518325</td>\n",
       "      <td>48.647188</td>\n",
       "      <td>59.156393</td>\n",
       "      <td>24.641952</td>\n",
       "      <td>23.029894</td>\n",
       "      <td>15.427293</td>\n",
       "      <td>18.403141</td>\n",
       "      <td>8.110117</td>\n",
       "      <td>7.35771</td>\n",
       "      <td>5.13089</td>\n",
       "      <td>6.269211</td>\n",
       "      <td>72.0</td>\n",
       "    </tr>\n",
       "    <tr>\n",
       "      <th>2</th>\n",
       "      <td>80</td>\n",
       "      <td>992.24425</td>\n",
       "      <td>81.865394</td>\n",
       "      <td>76.518325</td>\n",
       "      <td>48.647188</td>\n",
       "      <td>59.156393</td>\n",
       "      <td>24.641952</td>\n",
       "      <td>23.029894</td>\n",
       "      <td>15.427293</td>\n",
       "      <td>18.403141</td>\n",
       "      <td>8.110117</td>\n",
       "      <td>7.35771</td>\n",
       "      <td>5.13089</td>\n",
       "      <td>6.269211</td>\n",
       "      <td>72.0</td>\n",
       "    </tr>\n",
       "    <tr>\n",
       "      <th>3</th>\n",
       "      <td>80</td>\n",
       "      <td>992.24425</td>\n",
       "      <td>81.865394</td>\n",
       "      <td>76.518325</td>\n",
       "      <td>48.647188</td>\n",
       "      <td>59.156393</td>\n",
       "      <td>24.641952</td>\n",
       "      <td>23.029894</td>\n",
       "      <td>15.427293</td>\n",
       "      <td>18.403141</td>\n",
       "      <td>8.110117</td>\n",
       "      <td>7.35771</td>\n",
       "      <td>5.13089</td>\n",
       "      <td>6.269211</td>\n",
       "      <td>72.0</td>\n",
       "    </tr>\n",
       "    <tr>\n",
       "      <th>4</th>\n",
       "      <td>80</td>\n",
       "      <td>992.24425</td>\n",
       "      <td>81.865394</td>\n",
       "      <td>76.518325</td>\n",
       "      <td>48.647188</td>\n",
       "      <td>59.156393</td>\n",
       "      <td>24.641952</td>\n",
       "      <td>23.029894</td>\n",
       "      <td>15.427293</td>\n",
       "      <td>18.403141</td>\n",
       "      <td>8.110117</td>\n",
       "      <td>7.35771</td>\n",
       "      <td>5.13089</td>\n",
       "      <td>6.269211</td>\n",
       "      <td>72.0</td>\n",
       "    </tr>\n",
       "  </tbody>\n",
       "</table>\n",
       "</div>"
      ],
      "text/plain": [
       "   Maximum Wind  Minimum Pressure  Low Wind NE  Low Wind SE  Low Wind SW  \\\n",
       "0            80         992.24425    81.865394    76.518325    48.647188   \n",
       "1            80         992.24425    81.865394    76.518325    48.647188   \n",
       "2            80         992.24425    81.865394    76.518325    48.647188   \n",
       "3            80         992.24425    81.865394    76.518325    48.647188   \n",
       "4            80         992.24425    81.865394    76.518325    48.647188   \n",
       "\n",
       "   Low Wind NW  Moderate Wind NE  Moderate Wind SE  Moderate Wind SW  \\\n",
       "0    59.156393         24.641952         23.029894         15.427293   \n",
       "1    59.156393         24.641952         23.029894         15.427293   \n",
       "2    59.156393         24.641952         23.029894         15.427293   \n",
       "3    59.156393         24.641952         23.029894         15.427293   \n",
       "4    59.156393         24.641952         23.029894         15.427293   \n",
       "\n",
       "   Moderate Wind NW  High Wind NE  High Wind SE  High Wind SW  High Wind NW  \\\n",
       "0         18.403141      8.110117       7.35771       5.13089      6.269211   \n",
       "1         18.403141      8.110117       7.35771       5.13089      6.269211   \n",
       "2         18.403141      8.110117       7.35771       5.13089      6.269211   \n",
       "3         18.403141      8.110117       7.35771       5.13089      6.269211   \n",
       "4         18.403141      8.110117       7.35771       5.13089      6.269211   \n",
       "\n",
       "   Lifetime_hours  \n",
       "0            72.0  \n",
       "1            72.0  \n",
       "2            72.0  \n",
       "3            72.0  \n",
       "4            72.0  "
      ]
     },
     "execution_count": 11,
     "metadata": {},
     "output_type": "execute_result"
    }
   ],
   "source": [
    "labels = final_atlantic[\"Category\"]\n",
    "features = final_atlantic.drop(\"Category\", axis = 1)\n",
    "#selecting only columns that will be useful in the classification process\n",
    "features = features[['Maximum Wind', 'Minimum Pressure', 'Low Wind NE',\n",
    "                     'Low Wind SE', 'Low Wind SW', 'Low Wind NW', 'Moderate Wind NE',\n",
    "                     'Moderate Wind SE', 'Moderate Wind SW', 'Moderate Wind NW',\n",
    "                     'High Wind NE', 'High Wind SE', 'High Wind SW', 'High Wind NW',\n",
    "                     'Lifetime_hours']]\n",
    "#replacing na values with the average of the column\n",
    "features.fillna(features.mean(), inplace=True)\n",
    "features.head()"
   ]
  },
  {
   "cell_type": "markdown",
   "metadata": {},
   "source": [
    "The classification model is being built using a `Random Forest Classifier`. A `Random Forest classifier` is robust process that randomizes the feature selection process at each tree split which prevents overfitting."
   ]
  },
  {
   "cell_type": "code",
   "execution_count": 12,
   "metadata": {},
   "outputs": [],
   "source": [
    "#defining the names of the features and labels\n",
    "feature_columns = ['Maximum Wind', 'Minimum Pressure', 'Low Wind NE',\n",
    "                   'Low Wind SE', 'Low Wind SW', \n",
    "                   'Low Wind NW','Moderate Wind NE','Moderate Wind SE', \n",
    "                   'Moderate Wind SW', \n",
    "                   'Moderate Wind NW','High Wind NE', 'High Wind SE', \n",
    "                   'High Wind SW', 'High Wind NW','Lifetime_hours']\n",
    "labels_columns = 'Category'"
   ]
  },
  {
   "cell_type": "code",
   "execution_count": 13,
   "metadata": {},
   "outputs": [],
   "source": [
    "#splitting the test into a training and a test set\n",
    "x_train, x_test, y_train, y_test = train_test_split(features[feature_columns],\\\n",
    "                                                    labels ,\\\n",
    "                                                    test_size = 0.35, \n",
    "                                                    random_state = 10)"
   ]
  },
  {
   "cell_type": "markdown",
   "metadata": {},
   "source": [
    "The function below will be used to build the Random Forest Classification Model"
   ]
  },
  {
   "cell_type": "code",
   "execution_count": 14,
   "metadata": {},
   "outputs": [],
   "source": [
    "def model_prediction(rf, x_train, x_test, y_train, y_test, labels, feature_columns):\n",
    "    \"\"\"Build a Random Forest Classification Model.\n",
    "    \n",
    "    :param rf: Initialized RandomForestClassifier with necessary parameters\n",
    "    :param x_train: The data set being used to train\n",
    "    :param x_test: The data set on which the model will be tested\n",
    "    :param y_train: The labels data being used to train\n",
    "     :param y_test: The labels data that contains the true labels\n",
    "    :param labels: The column that contains all true labels\n",
    "    :param feature_columns: The features being used for modeling\n",
    "    :returns: confusion matrix, accuracy and error rate, \n",
    "    classification report, important features,predicted values\n",
    "    \"\"\"\n",
    "    rf.fit(x_train,y_train)\n",
    "    predictions = rf.predict(x_test)\n",
    "    actual_predicted = pd.DataFrame(predictions,columns=[\"Predicted\"])\n",
    "    actual_predicted[\"Actual\"] = labels\n",
    "    conf_matrix = pd.crosstab(y_test,predictions,rownames=[\"True\"],\n",
    "                                   colnames=[\"Predicted\"],margins=True)\n",
    "    accuracy_rate = metrics.accuracy_score(y_test, predictions)\n",
    "    base_error_rate = 1 - accuracy_rate\n",
    "    rf_report = metrics.classification_report(y_test,predictions)\n",
    "    model_features = pd.DataFrame(rf.feature_importances_, \n",
    "                                          columns=[\"Importance of Features\"], \n",
    "                                          index=feature_columns)\n",
    "\n",
    "    return predictions, actual_predicted, accuracy_rate, base_error_rate, rf_report, model_features, conf_matrix"
   ]
  },
  {
   "cell_type": "markdown",
   "metadata": {},
   "source": [
    "The base random forest model will look at the performance of the classification model with all of the variables. Based on the *feature importance*, only the important variables will then be considered."
   ]
  },
  {
   "cell_type": "markdown",
   "metadata": {},
   "source": [
    "### Base Classification Model"
   ]
  },
  {
   "cell_type": "code",
   "execution_count": 15,
   "metadata": {},
   "outputs": [],
   "source": [
    "#initializing a random forest classifier\n",
    "base_rf = RandomForestClassifier(n_estimators = 100, random_state = 10, max_depth=5, \n",
    "                                 oob_score=True, bootstrap=True)"
   ]
  },
  {
   "cell_type": "code",
   "execution_count": 16,
   "metadata": {},
   "outputs": [],
   "source": [
    "base_model = model_prediction(rf = base_rf, x_train = x_train, x_test = x_test, \n",
    "                 y_train =y_train, y_test = y_test, labels = labels, \n",
    "                              feature_columns = feature_columns)"
   ]
  },
  {
   "cell_type": "code",
   "execution_count": 17,
   "metadata": {},
   "outputs": [],
   "source": [
    "#predict testing data\n",
    "predictions = base_model[0]\n",
    "base_actual_predicted = base_model[1]"
   ]
  },
  {
   "cell_type": "code",
   "execution_count": 18,
   "metadata": {},
   "outputs": [],
   "source": [
    "#Compute the confusion matrix to see how accurately the model is prediciting\n",
    "base_conf_matrix = base_model[6]"
   ]
  },
  {
   "cell_type": "code",
   "execution_count": 19,
   "metadata": {},
   "outputs": [
    {
     "name": "stdout",
     "output_type": "stream",
     "text": [
      "The accuracy for a base Random Forest Classifier is: 0.9622970850061092 \n",
      "The error rate for a base Random Forest Classifier is: 0.03770291499389078\n"
     ]
    }
   ],
   "source": [
    "base_accuracy = base_model[2]\n",
    "base_error_rate = base_model[3]\n",
    "print(\"The accuracy for a base Random Forest Classifier is:\", base_accuracy, \n",
    "      \"\\nThe error rate for a base Random Forest Classifier is:\", base_error_rate)"
   ]
  },
  {
   "cell_type": "code",
   "execution_count": 20,
   "metadata": {},
   "outputs": [],
   "source": [
    "base_rf_report = base_model[4]"
   ]
  },
  {
   "cell_type": "code",
   "execution_count": 21,
   "metadata": {},
   "outputs": [
    {
     "data": {
      "text/html": [
       "<div>\n",
       "<style scoped>\n",
       "    .dataframe tbody tr th:only-of-type {\n",
       "        vertical-align: middle;\n",
       "    }\n",
       "\n",
       "    .dataframe tbody tr th {\n",
       "        vertical-align: top;\n",
       "    }\n",
       "\n",
       "    .dataframe thead th {\n",
       "        text-align: right;\n",
       "    }\n",
       "</style>\n",
       "<table border=\"1\" class=\"dataframe\">\n",
       "  <thead>\n",
       "    <tr style=\"text-align: right;\">\n",
       "      <th></th>\n",
       "      <th>Importance of Features</th>\n",
       "    </tr>\n",
       "  </thead>\n",
       "  <tbody>\n",
       "    <tr>\n",
       "      <th>Maximum Wind</th>\n",
       "      <td>0.693561</td>\n",
       "    </tr>\n",
       "    <tr>\n",
       "      <th>Minimum Pressure</th>\n",
       "      <td>0.154915</td>\n",
       "    </tr>\n",
       "    <tr>\n",
       "      <th>Low Wind NE</th>\n",
       "      <td>0.000953</td>\n",
       "    </tr>\n",
       "    <tr>\n",
       "      <th>Low Wind SE</th>\n",
       "      <td>0.001308</td>\n",
       "    </tr>\n",
       "    <tr>\n",
       "      <th>Low Wind SW</th>\n",
       "      <td>0.003998</td>\n",
       "    </tr>\n",
       "    <tr>\n",
       "      <th>Low Wind NW</th>\n",
       "      <td>0.001171</td>\n",
       "    </tr>\n",
       "    <tr>\n",
       "      <th>Moderate Wind NE</th>\n",
       "      <td>0.002932</td>\n",
       "    </tr>\n",
       "    <tr>\n",
       "      <th>Moderate Wind SE</th>\n",
       "      <td>0.006990</td>\n",
       "    </tr>\n",
       "    <tr>\n",
       "      <th>Moderate Wind SW</th>\n",
       "      <td>0.007534</td>\n",
       "    </tr>\n",
       "    <tr>\n",
       "      <th>Moderate Wind NW</th>\n",
       "      <td>0.004503</td>\n",
       "    </tr>\n",
       "    <tr>\n",
       "      <th>High Wind NE</th>\n",
       "      <td>0.024530</td>\n",
       "    </tr>\n",
       "    <tr>\n",
       "      <th>High Wind SE</th>\n",
       "      <td>0.025848</td>\n",
       "    </tr>\n",
       "    <tr>\n",
       "      <th>High Wind SW</th>\n",
       "      <td>0.012430</td>\n",
       "    </tr>\n",
       "    <tr>\n",
       "      <th>High Wind NW</th>\n",
       "      <td>0.012925</td>\n",
       "    </tr>\n",
       "    <tr>\n",
       "      <th>Lifetime_hours</th>\n",
       "      <td>0.046403</td>\n",
       "    </tr>\n",
       "  </tbody>\n",
       "</table>\n",
       "</div>"
      ],
      "text/plain": [
       "                  Importance of Features\n",
       "Maximum Wind                    0.693561\n",
       "Minimum Pressure                0.154915\n",
       "Low Wind NE                     0.000953\n",
       "Low Wind SE                     0.001308\n",
       "Low Wind SW                     0.003998\n",
       "Low Wind NW                     0.001171\n",
       "Moderate Wind NE                0.002932\n",
       "Moderate Wind SE                0.006990\n",
       "Moderate Wind SW                0.007534\n",
       "Moderate Wind NW                0.004503\n",
       "High Wind NE                    0.024530\n",
       "High Wind SE                    0.025848\n",
       "High Wind SW                    0.012430\n",
       "High Wind NW                    0.012925\n",
       "Lifetime_hours                  0.046403"
      ]
     },
     "execution_count": 21,
     "metadata": {},
     "output_type": "execute_result"
    }
   ],
   "source": [
    "Initial_model_features = base_model[5]\n",
    "Initial_model_features"
   ]
  },
  {
   "cell_type": "markdown",
   "metadata": {},
   "source": [
    "There appear to be some variables that don't contribute to the overall `Category` of the Tropical Cyclone. The variables with significantly low coefficients values are removed to see if that improves the accuracy of the model. "
   ]
  },
  {
   "cell_type": "markdown",
   "metadata": {},
   "source": [
    "### New Classification Model with important features"
   ]
  },
  {
   "cell_type": "code",
   "execution_count": 23,
   "metadata": {},
   "outputs": [],
   "source": [
    "#New Random Forest with important variables\n",
    "rf_new = RandomForestClassifier(n_estimators=100, random_state=10, \n",
    "                                max_depth=5, oob_score=True, bootstrap=True)\n",
    "new_feature_columns = [\"Maximum Wind\", \"Minimum Pressure\", \"Lifetime_hours\", \n",
    "                       \"High Wind SE\", \"High Wind NE\",\"High Wind NW\"]"
   ]
  },
  {
   "cell_type": "code",
   "execution_count": 24,
   "metadata": {},
   "outputs": [],
   "source": [
    "#new training and testing set\n",
    "x_train_new, x_test_new, y_train_new, y_test_new = train_test_split(\n",
    "                                        features[new_feature_columns],\n",
    "                                                    labels ,\n",
    "                                                    test_size = 0.35, \n",
    "                                            random_state = 10)"
   ]
  },
  {
   "cell_type": "code",
   "execution_count": 25,
   "metadata": {},
   "outputs": [],
   "source": [
    "new_model = model_prediction(rf = rf_new, x_train = x_train_new, x_test = x_test_new, \n",
    "                 y_train =y_train_new, y_test = y_test_new, labels = labels, \n",
    "                             feature_columns = new_feature_columns)"
   ]
  },
  {
   "cell_type": "code",
   "execution_count": 26,
   "metadata": {},
   "outputs": [],
   "source": [
    "new_predictions = new_model[0]\n",
    "new_actual_predicted = new_model[1]"
   ]
  },
  {
   "cell_type": "code",
   "execution_count": 27,
   "metadata": {},
   "outputs": [],
   "source": [
    "new_conf_matrix = new_model[6]"
   ]
  },
  {
   "cell_type": "code",
   "execution_count": 28,
   "metadata": {},
   "outputs": [
    {
     "name": "stdout",
     "output_type": "stream",
     "text": [
      "The accuracy for a base Random Forest Classifier is: 0.9710827951358585 \n",
      "The error rate for a base Random Forest Classifier is: 0.02891720486414151\n"
     ]
    }
   ],
   "source": [
    "new_accuracy = new_model[2]\n",
    "new_error_rate = new_model[3]\n",
    "print(\"The accuracy for a base Random Forest Classifier is:\", new_accuracy, \n",
    "      \"\\nThe error rate for a base Random Forest Classifier is:\", new_error_rate)"
   ]
  },
  {
   "cell_type": "code",
   "execution_count": 29,
   "metadata": {},
   "outputs": [],
   "source": [
    "new_rf_report = new_model[4]"
   ]
  },
  {
   "cell_type": "code",
   "execution_count": 30,
   "metadata": {},
   "outputs": [
    {
     "data": {
      "text/html": [
       "<div>\n",
       "<style scoped>\n",
       "    .dataframe tbody tr th:only-of-type {\n",
       "        vertical-align: middle;\n",
       "    }\n",
       "\n",
       "    .dataframe tbody tr th {\n",
       "        vertical-align: top;\n",
       "    }\n",
       "\n",
       "    .dataframe thead th {\n",
       "        text-align: right;\n",
       "    }\n",
       "</style>\n",
       "<table border=\"1\" class=\"dataframe\">\n",
       "  <thead>\n",
       "    <tr style=\"text-align: right;\">\n",
       "      <th></th>\n",
       "      <th>Importance of Features</th>\n",
       "    </tr>\n",
       "  </thead>\n",
       "  <tbody>\n",
       "    <tr>\n",
       "      <th>Maximum Wind</th>\n",
       "      <td>0.815537</td>\n",
       "    </tr>\n",
       "    <tr>\n",
       "      <th>Minimum Pressure</th>\n",
       "      <td>0.117750</td>\n",
       "    </tr>\n",
       "    <tr>\n",
       "      <th>Lifetime_hours</th>\n",
       "      <td>0.029516</td>\n",
       "    </tr>\n",
       "    <tr>\n",
       "      <th>High Wind SE</th>\n",
       "      <td>0.014068</td>\n",
       "    </tr>\n",
       "    <tr>\n",
       "      <th>High Wind NE</th>\n",
       "      <td>0.018702</td>\n",
       "    </tr>\n",
       "    <tr>\n",
       "      <th>High Wind NW</th>\n",
       "      <td>0.004427</td>\n",
       "    </tr>\n",
       "  </tbody>\n",
       "</table>\n",
       "</div>"
      ],
      "text/plain": [
       "                  Importance of Features\n",
       "Maximum Wind                    0.815537\n",
       "Minimum Pressure                0.117750\n",
       "Lifetime_hours                  0.029516\n",
       "High Wind SE                    0.014068\n",
       "High Wind NE                    0.018702\n",
       "High Wind NW                    0.004427"
      ]
     },
     "execution_count": 30,
     "metadata": {},
     "output_type": "execute_result"
    }
   ],
   "source": [
    "new_model = new_model[5]\n",
    "new_model"
   ]
  },
  {
   "cell_type": "markdown",
   "metadata": {},
   "source": [
    "The importance of the Maximum Wind column increased very significantly. Maximum Pressure seems to be the second most important variable but its importance is significantly less than Maximum Wind."
   ]
  },
  {
   "cell_type": "markdown",
   "metadata": {},
   "source": [
    "### Classification Model with the variable `Maximum Wind` removed"
   ]
  },
  {
   "cell_type": "code",
   "execution_count": 31,
   "metadata": {},
   "outputs": [],
   "source": [
    "#New Random Forest with important variables\n",
    "rf_nw = RandomForestClassifier(n_estimators=100, random_state=10, \n",
    "                                max_depth=5, oob_score=True, bootstrap=True)\n",
    "nw_feature_cols = ['Minimum Pressure', 'Low Wind NE','Low Wind SE', 'Low Wind SW', \n",
    "                   'Low Wind NW','Moderate Wind NE','Moderate Wind SE', \n",
    "                   'Moderate Wind SW', \n",
    "                   'Moderate Wind NW','High Wind NE', 'High Wind SE', \n",
    "                   'High Wind SW', 'High Wind NW','Lifetime_hours']"
   ]
  },
  {
   "cell_type": "code",
   "execution_count": 34,
   "metadata": {},
   "outputs": [],
   "source": [
    "#new training and testing set\n",
    "x_train_nw, x_test_nw, y_train_nw, y_test_nw = train_test_split(\n",
    "                                        features[nw_feature_cols],\n",
    "                                                    labels ,\n",
    "                                                    test_size = 0.35, \n",
    "                                            random_state = 10)"
   ]
  },
  {
   "cell_type": "code",
   "execution_count": 35,
   "metadata": {},
   "outputs": [],
   "source": [
    "nw_model = model_prediction(rf = rf_nw, x_train = x_train_nw, x_test = x_test_nw, \n",
    "                 y_train =y_train_nw, y_test = y_test_nw, labels = labels, \n",
    "                            feature_columns = nw_feature_cols)"
   ]
  },
  {
   "cell_type": "code",
   "execution_count": 36,
   "metadata": {},
   "outputs": [],
   "source": [
    "nw_predictions = nw_model[0]\n",
    "nw_actual_predicted = nw_model[1]"
   ]
  },
  {
   "cell_type": "code",
   "execution_count": 39,
   "metadata": {},
   "outputs": [],
   "source": [
    "nw_conf_matrix = nw_model[6]"
   ]
  },
  {
   "cell_type": "code",
   "execution_count": 40,
   "metadata": {},
   "outputs": [
    {
     "name": "stdout",
     "output_type": "stream",
     "text": [
      "The accuracy for a base Random Forest Classifier is: 0.7355559434456275 \n",
      "The error rate for a base Random Forest Classifier is: 0.26444405655437253\n"
     ]
    }
   ],
   "source": [
    "nw_accuracy = nw_model[2]\n",
    "nw_error_rate = nw_model[3]\n",
    "print(\"The accuracy for a base Random Forest Classifier is:\", nw_accuracy, \n",
    "      \"\\nThe error rate for a base Random Forest Classifier is:\", nw_error_rate)"
   ]
  },
  {
   "cell_type": "code",
   "execution_count": 41,
   "metadata": {},
   "outputs": [],
   "source": [
    "nw_rf_report = nw_model[4]"
   ]
  },
  {
   "cell_type": "code",
   "execution_count": 42,
   "metadata": {},
   "outputs": [
    {
     "data": {
      "text/html": [
       "<div>\n",
       "<style scoped>\n",
       "    .dataframe tbody tr th:only-of-type {\n",
       "        vertical-align: middle;\n",
       "    }\n",
       "\n",
       "    .dataframe tbody tr th {\n",
       "        vertical-align: top;\n",
       "    }\n",
       "\n",
       "    .dataframe thead th {\n",
       "        text-align: right;\n",
       "    }\n",
       "</style>\n",
       "<table border=\"1\" class=\"dataframe\">\n",
       "  <thead>\n",
       "    <tr style=\"text-align: right;\">\n",
       "      <th></th>\n",
       "      <th>Importance of Features</th>\n",
       "    </tr>\n",
       "  </thead>\n",
       "  <tbody>\n",
       "    <tr>\n",
       "      <th>Minimum Pressure</th>\n",
       "      <td>0.498321</td>\n",
       "    </tr>\n",
       "    <tr>\n",
       "      <th>Low Wind NE</th>\n",
       "      <td>0.003320</td>\n",
       "    </tr>\n",
       "    <tr>\n",
       "      <th>Low Wind SE</th>\n",
       "      <td>0.006308</td>\n",
       "    </tr>\n",
       "    <tr>\n",
       "      <th>Low Wind SW</th>\n",
       "      <td>0.005551</td>\n",
       "    </tr>\n",
       "    <tr>\n",
       "      <th>Low Wind NW</th>\n",
       "      <td>0.003569</td>\n",
       "    </tr>\n",
       "    <tr>\n",
       "      <th>Moderate Wind NE</th>\n",
       "      <td>0.019601</td>\n",
       "    </tr>\n",
       "    <tr>\n",
       "      <th>Moderate Wind SE</th>\n",
       "      <td>0.018154</td>\n",
       "    </tr>\n",
       "    <tr>\n",
       "      <th>Moderate Wind SW</th>\n",
       "      <td>0.018701</td>\n",
       "    </tr>\n",
       "    <tr>\n",
       "      <th>Moderate Wind NW</th>\n",
       "      <td>0.028788</td>\n",
       "    </tr>\n",
       "    <tr>\n",
       "      <th>High Wind NE</th>\n",
       "      <td>0.088450</td>\n",
       "    </tr>\n",
       "    <tr>\n",
       "      <th>High Wind SE</th>\n",
       "      <td>0.080559</td>\n",
       "    </tr>\n",
       "    <tr>\n",
       "      <th>High Wind SW</th>\n",
       "      <td>0.038133</td>\n",
       "    </tr>\n",
       "    <tr>\n",
       "      <th>High Wind NW</th>\n",
       "      <td>0.044297</td>\n",
       "    </tr>\n",
       "    <tr>\n",
       "      <th>Lifetime_hours</th>\n",
       "      <td>0.146248</td>\n",
       "    </tr>\n",
       "  </tbody>\n",
       "</table>\n",
       "</div>"
      ],
      "text/plain": [
       "                  Importance of Features\n",
       "Minimum Pressure                0.498321\n",
       "Low Wind NE                     0.003320\n",
       "Low Wind SE                     0.006308\n",
       "Low Wind SW                     0.005551\n",
       "Low Wind NW                     0.003569\n",
       "Moderate Wind NE                0.019601\n",
       "Moderate Wind SE                0.018154\n",
       "Moderate Wind SW                0.018701\n",
       "Moderate Wind NW                0.028788\n",
       "High Wind NE                    0.088450\n",
       "High Wind SE                    0.080559\n",
       "High Wind SW                    0.038133\n",
       "High Wind NW                    0.044297\n",
       "Lifetime_hours                  0.146248"
      ]
     },
     "execution_count": 42,
     "metadata": {},
     "output_type": "execute_result"
    }
   ],
   "source": [
    "nw_model = nw_model[5]\n",
    "nw_model"
   ]
  },
  {
   "cell_type": "markdown",
   "metadata": {},
   "source": [
    "### Classification Model consisting of only Hurricanes labelled as `HU`"
   ]
  },
  {
   "cell_type": "markdown",
   "metadata": {},
   "source": [
    "The dataframe called `hurricanes` consists of only the rows that are classified as hurricanes. We will build a classification model with this dataframe using the same parameters as above to see if there is a difference between the two models."
   ]
  },
  {
   "cell_type": "code",
   "execution_count": 43,
   "metadata": {},
   "outputs": [],
   "source": [
    "#replacing null values with the mean of the column\n",
    "hurricanes.fillna(hurricanes.mean(), inplace=True)"
   ]
  },
  {
   "cell_type": "code",
   "execution_count": 44,
   "metadata": {},
   "outputs": [],
   "source": [
    "#new training and testing set\n",
    "x_train_hu, x_test_hu, y_train_hu, y_test_hu = train_test_split(\n",
    "                                    hurricanes[feature_columns],\n",
    "                                                    labels ,\n",
    "                                                    test_size = 0.35, \n",
    "                                            random_state = 10)"
   ]
  },
  {
   "cell_type": "code",
   "execution_count": 45,
   "metadata": {},
   "outputs": [],
   "source": [
    "hu_model = model_prediction(rf = base_rf, x_train = x_train_hu, x_test = x_test_hu, \n",
    "                 y_train =y_train_hu, y_test = y_test_hu, labels = labels, feature_columns = feature_columns)"
   ]
  },
  {
   "cell_type": "code",
   "execution_count": 46,
   "metadata": {},
   "outputs": [],
   "source": [
    "hu_predictions = hu_model[0]\n",
    "hu_actual_predicted = hu_model[1]"
   ]
  },
  {
   "cell_type": "code",
   "execution_count": 47,
   "metadata": {},
   "outputs": [],
   "source": [
    "hu_conf_matrix = hu_model[6]"
   ]
  },
  {
   "cell_type": "code",
   "execution_count": 48,
   "metadata": {},
   "outputs": [
    {
     "name": "stdout",
     "output_type": "stream",
     "text": [
      "The accuracy for a base Random Forest Classifier is: 0.9622970850061092 \n",
      "The error rate for a base Random Forest Classifier is: 0.03770291499389078\n"
     ]
    }
   ],
   "source": [
    "hu_accuracy = hu_model[2]\n",
    "hu_error_rate = hu_model[3]\n",
    "print(\"The accuracy for a base Random Forest Classifier is:\", hu_accuracy, \n",
    "      \"\\nThe error rate for a base Random Forest Classifier is:\", hu_error_rate)"
   ]
  },
  {
   "cell_type": "markdown",
   "metadata": {},
   "source": [
    "There appears to be no difference in the accuracy between the two models. "
   ]
  },
  {
   "cell_type": "markdown",
   "metadata": {},
   "source": [
    "## Results and Conclusion"
   ]
  },
  {
   "cell_type": "markdown",
   "metadata": {},
   "source": [
    "### Hyperparameter Testing"
   ]
  },
  {
   "cell_type": "markdown",
   "metadata": {},
   "source": [
    "Although a Random Forest Classifier is robust and prevents overfitting, a good way to significantly improve model performance is set the right parameters when initializing the classification model. "
   ]
  },
  {
   "cell_type": "code",
   "execution_count": 49,
   "metadata": {},
   "outputs": [],
   "source": [
    "#initializing a random forest classifier with default values\n",
    "rf = RandomForestClassifier(random_state=10)"
   ]
  },
  {
   "cell_type": "code",
   "execution_count": 50,
   "metadata": {},
   "outputs": [],
   "source": [
    "#new training and testing set\n",
    "x_train_best, x_test_best, y_train_best, y_test_best = train_test_split(\n",
    "                                    features[feature_columns],\n",
    "                                                    labels ,\n",
    "                                                    test_size = 0.35, \n",
    "                                            random_state = 10)"
   ]
  },
  {
   "cell_type": "code",
   "execution_count": 51,
   "metadata": {},
   "outputs": [
    {
     "data": {
      "text/plain": [
       "<bound method BaseEstimator.get_params of RandomForestClassifier(bootstrap=True, class_weight=None, criterion='gini',\n",
       "            max_depth=None, max_features='auto', max_leaf_nodes=None,\n",
       "            min_impurity_decrease=0.0, min_impurity_split=None,\n",
       "            min_samples_leaf=1, min_samples_split=2,\n",
       "            min_weight_fraction_leaf=0.0, n_estimators='warn', n_jobs=None,\n",
       "            oob_score=False, random_state=10, verbose=0, warm_start=False)>"
      ]
     },
     "execution_count": 51,
     "metadata": {},
     "output_type": "execute_result"
    }
   ],
   "source": [
    "rf.get_params"
   ]
  },
  {
   "cell_type": "code",
   "execution_count": 52,
   "metadata": {},
   "outputs": [],
   "source": [
    "#number of decision trees\n",
    "n_estimators = [int(x) for x in np.linspace(start = 100, stop = 500, num = 5)]\n",
    "#number of features to be considered at each split\n",
    "max_features = ['auto', 'sqrt']\n",
    "#maximum depth of the trees\n",
    "max_depth = [int(x) for x in np.linspace(15, 200, num = 2)]\n",
    "# Method of selecting samples for training each tree\n",
    "bootstrap = [True, False]\n",
    "\n",
    "random_grid = {'n_estimators': n_estimators,\n",
    "               'max_features': max_features,\n",
    "               'max_depth': max_depth,\n",
    "               'bootstrap': bootstrap}"
   ]
  },
  {
   "cell_type": "code",
   "execution_count": 53,
   "metadata": {},
   "outputs": [],
   "source": [
    "%%capture\n",
    "#used capture to surpress output of the randomized grid search\n",
    "def cross_validate(rf, random_grid, no_iter, cv, x_train, y_train):\n",
    "\n",
    "    rf_grid_search = RandomizedSearchCV(rf, \n",
    "                                        param_distributions = random_grid, \n",
    "                                        n_iter = no_iter, \n",
    "                                        cv = cv, verbose=2, random_state=10)\n",
    "    rf_grid_search = rf_grid_search.fit(x_train, y_train)\n",
    "    \n",
    "    return rf_grid_search\n",
    "\n",
    "rf_grid_search = cross_validate(rf = rf, random_grid = random_grid, \n",
    "                                no_iter = 10, cv = 4, \n",
    "                                x_train = x_train_best, y_train = y_train_best)"
   ]
  },
  {
   "cell_type": "code",
   "execution_count": 54,
   "metadata": {},
   "outputs": [
    {
     "data": {
      "text/plain": [
       "{'n_estimators': 500,\n",
       " 'max_features': 'auto',\n",
       " 'max_depth': 15,\n",
       " 'bootstrap': False}"
      ]
     },
     "execution_count": 54,
     "metadata": {},
     "output_type": "execute_result"
    }
   ],
   "source": [
    "rf_grid_search.best_params_"
   ]
  },
  {
   "cell_type": "markdown",
   "metadata": {},
   "source": [
    "We now perform the random forest classification with the best parameters found by Random Grid Search"
   ]
  },
  {
   "cell_type": "code",
   "execution_count": 55,
   "metadata": {},
   "outputs": [],
   "source": [
    "best_params = {\"n_estimators\": 500,\n",
    " \"max_features\": 'auto',\n",
    " \"max_depth\": 15,\n",
    " \"bootstrap\": False}"
   ]
  },
  {
   "cell_type": "code",
   "execution_count": 56,
   "metadata": {},
   "outputs": [],
   "source": [
    "rf_best = RandomForestClassifier(n_estimators=best_params[\"n_estimators\"], \n",
    "                                 max_features = best_params[\"max_features\"], \n",
    "                                 max_depth = best_params[\"max_depth\"], \n",
    "                                 bootstrap = best_params[\"bootstrap\"])"
   ]
  },
  {
   "cell_type": "code",
   "execution_count": 57,
   "metadata": {},
   "outputs": [],
   "source": [
    "best_model = model_prediction(rf = rf_best, x_train = x_train_best, \n",
    "                              x_test = x_test_best, \n",
    "                 y_train =y_train_best, y_test = y_test_best,\n",
    "                              labels = labels, feature_columns = feature_columns)"
   ]
  },
  {
   "cell_type": "code",
   "execution_count": 58,
   "metadata": {},
   "outputs": [],
   "source": [
    "best_predictions = best_model[0]\n",
    "best_actual_predicted = best_model[1]"
   ]
  },
  {
   "cell_type": "code",
   "execution_count": 59,
   "metadata": {},
   "outputs": [],
   "source": [
    "best_conf_matrix = best_model[6]"
   ]
  },
  {
   "cell_type": "code",
   "execution_count": 60,
   "metadata": {},
   "outputs": [
    {
     "name": "stdout",
     "output_type": "stream",
     "text": [
      "The accuracy for a base Random Forest Classifier is: 0.9997090824460348 \n",
      "The error rate for a base Random Forest Classifier is: 0.0002909175539651532\n"
     ]
    }
   ],
   "source": [
    "best_accuracy = best_model[2]\n",
    "best_error_rate = best_model[3]\n",
    "print(\"The accuracy for a base Random Forest Classifier is:\", best_accuracy, \n",
    "      \"\\nThe error rate for a base Random Forest Classifier is:\", best_error_rate)"
   ]
  },
  {
   "cell_type": "code",
   "execution_count": 61,
   "metadata": {},
   "outputs": [],
   "source": [
    "best_rf_report = best_model[4]"
   ]
  },
  {
   "cell_type": "code",
   "execution_count": 62,
   "metadata": {},
   "outputs": [
    {
     "data": {
      "text/html": [
       "<div>\n",
       "<style scoped>\n",
       "    .dataframe tbody tr th:only-of-type {\n",
       "        vertical-align: middle;\n",
       "    }\n",
       "\n",
       "    .dataframe tbody tr th {\n",
       "        vertical-align: top;\n",
       "    }\n",
       "\n",
       "    .dataframe thead th {\n",
       "        text-align: right;\n",
       "    }\n",
       "</style>\n",
       "<table border=\"1\" class=\"dataframe\">\n",
       "  <thead>\n",
       "    <tr style=\"text-align: right;\">\n",
       "      <th></th>\n",
       "      <th>Number of estimators</th>\n",
       "      <th>Depth of Tree</th>\n",
       "      <th>Accuracy</th>\n",
       "      <th>Error Rate</th>\n",
       "    </tr>\n",
       "  </thead>\n",
       "  <tbody>\n",
       "    <tr>\n",
       "      <th>0</th>\n",
       "      <td>100.0</td>\n",
       "      <td>5.0</td>\n",
       "      <td>0.962297</td>\n",
       "      <td>0.037703</td>\n",
       "    </tr>\n",
       "    <tr>\n",
       "      <th>1</th>\n",
       "      <td>100.0</td>\n",
       "      <td>5.0</td>\n",
       "      <td>0.971083</td>\n",
       "      <td>0.028917</td>\n",
       "    </tr>\n",
       "    <tr>\n",
       "      <th>2</th>\n",
       "      <td>500.0</td>\n",
       "      <td>15.0</td>\n",
       "      <td>0.999709</td>\n",
       "      <td>0.000291</td>\n",
       "    </tr>\n",
       "  </tbody>\n",
       "</table>\n",
       "</div>"
      ],
      "text/plain": [
       "   Number of estimators  Depth of Tree  Accuracy  Error Rate\n",
       "0                 100.0            5.0  0.962297    0.037703\n",
       "1                 100.0            5.0  0.971083    0.028917\n",
       "2                 500.0           15.0  0.999709    0.000291"
      ]
     },
     "execution_count": 62,
     "metadata": {},
     "output_type": "execute_result"
    }
   ],
   "source": [
    "#Storing the performance of the model in a dictionary\n",
    "performance = pd.DataFrame(\n",
    "    {\n",
    "        \"Number of estimators\" : 100,\n",
    "        \"Depth of Tree\" : 5,\n",
    "        \"Accuracy\" : base_accuracy,\n",
    "        \"Error Rate\" : base_error_rate\n",
    "    }, index = np.arange(1))\n",
    "performance.loc[1] = [100, 5, new_accuracy, new_error_rate]\n",
    "performance.loc[2] = [best_params[\"n_estimators\"], \n",
    "                      best_params[\"max_depth\"], \n",
    "                      best_accuracy, best_error_rate]\n",
    "performance"
   ]
  },
  {
   "cell_type": "markdown",
   "metadata": {},
   "source": [
    "On running the Random Grid Search Cross Validation, we obtain the parameters that will help minimize the error rate. The number of estimators go from 100 used in making the initial models to 300. The depth of the tree goes from 5 in the initial models to 15, and the error rate significantly decreases. "
   ]
  },
  {
   "cell_type": "markdown",
   "metadata": {},
   "source": [
    "#### Confusion Matrix"
   ]
  },
  {
   "cell_type": "code",
   "execution_count": 63,
   "metadata": {},
   "outputs": [
    {
     "data": {
      "text/plain": [
       "'The base confusion matrix with all the variables:'"
      ]
     },
     "metadata": {},
     "output_type": "display_data"
    },
    {
     "data": {
      "text/html": [
       "<div>\n",
       "<style scoped>\n",
       "    .dataframe tbody tr th:only-of-type {\n",
       "        vertical-align: middle;\n",
       "    }\n",
       "\n",
       "    .dataframe tbody tr th {\n",
       "        vertical-align: top;\n",
       "    }\n",
       "\n",
       "    .dataframe thead th {\n",
       "        text-align: right;\n",
       "    }\n",
       "</style>\n",
       "<table border=\"1\" class=\"dataframe\">\n",
       "  <thead>\n",
       "    <tr style=\"text-align: right;\">\n",
       "      <th>Predicted</th>\n",
       "      <th>0</th>\n",
       "      <th>1</th>\n",
       "      <th>2</th>\n",
       "      <th>3</th>\n",
       "      <th>4</th>\n",
       "      <th>All</th>\n",
       "    </tr>\n",
       "    <tr>\n",
       "      <th>True</th>\n",
       "      <th></th>\n",
       "      <th></th>\n",
       "      <th></th>\n",
       "      <th></th>\n",
       "      <th></th>\n",
       "      <th></th>\n",
       "    </tr>\n",
       "  </thead>\n",
       "  <tbody>\n",
       "    <tr>\n",
       "      <th>0</th>\n",
       "      <td>11851</td>\n",
       "      <td>0</td>\n",
       "      <td>0</td>\n",
       "      <td>0</td>\n",
       "      <td>0</td>\n",
       "      <td>11851</td>\n",
       "    </tr>\n",
       "    <tr>\n",
       "      <th>1</th>\n",
       "      <td>0</td>\n",
       "      <td>2958</td>\n",
       "      <td>0</td>\n",
       "      <td>0</td>\n",
       "      <td>0</td>\n",
       "      <td>2958</td>\n",
       "    </tr>\n",
       "    <tr>\n",
       "      <th>2</th>\n",
       "      <td>0</td>\n",
       "      <td>2</td>\n",
       "      <td>1315</td>\n",
       "      <td>0</td>\n",
       "      <td>0</td>\n",
       "      <td>1317</td>\n",
       "    </tr>\n",
       "    <tr>\n",
       "      <th>3</th>\n",
       "      <td>29</td>\n",
       "      <td>388</td>\n",
       "      <td>55</td>\n",
       "      <td>231</td>\n",
       "      <td>6</td>\n",
       "      <td>709</td>\n",
       "    </tr>\n",
       "    <tr>\n",
       "      <th>4</th>\n",
       "      <td>0</td>\n",
       "      <td>117</td>\n",
       "      <td>4</td>\n",
       "      <td>12</td>\n",
       "      <td>184</td>\n",
       "      <td>317</td>\n",
       "    </tr>\n",
       "    <tr>\n",
       "      <th>5</th>\n",
       "      <td>1</td>\n",
       "      <td>9</td>\n",
       "      <td>1</td>\n",
       "      <td>1</td>\n",
       "      <td>23</td>\n",
       "      <td>35</td>\n",
       "    </tr>\n",
       "    <tr>\n",
       "      <th>All</th>\n",
       "      <td>11881</td>\n",
       "      <td>3474</td>\n",
       "      <td>1375</td>\n",
       "      <td>244</td>\n",
       "      <td>213</td>\n",
       "      <td>17187</td>\n",
       "    </tr>\n",
       "  </tbody>\n",
       "</table>\n",
       "</div>"
      ],
      "text/plain": [
       "Predicted      0     1     2    3    4    All\n",
       "True                                         \n",
       "0          11851     0     0    0    0  11851\n",
       "1              0  2958     0    0    0   2958\n",
       "2              0     2  1315    0    0   1317\n",
       "3             29   388    55  231    6    709\n",
       "4              0   117     4   12  184    317\n",
       "5              1     9     1    1   23     35\n",
       "All        11881  3474  1375  244  213  17187"
      ]
     },
     "metadata": {},
     "output_type": "display_data"
    },
    {
     "data": {
      "text/plain": [
       "'The new confusion matrix with important variables:'"
      ]
     },
     "metadata": {},
     "output_type": "display_data"
    },
    {
     "data": {
      "text/html": [
       "<div>\n",
       "<style scoped>\n",
       "    .dataframe tbody tr th:only-of-type {\n",
       "        vertical-align: middle;\n",
       "    }\n",
       "\n",
       "    .dataframe tbody tr th {\n",
       "        vertical-align: top;\n",
       "    }\n",
       "\n",
       "    .dataframe thead th {\n",
       "        text-align: right;\n",
       "    }\n",
       "</style>\n",
       "<table border=\"1\" class=\"dataframe\">\n",
       "  <thead>\n",
       "    <tr style=\"text-align: right;\">\n",
       "      <th>Predicted</th>\n",
       "      <th>0</th>\n",
       "      <th>1</th>\n",
       "      <th>2</th>\n",
       "      <th>3</th>\n",
       "      <th>4</th>\n",
       "      <th>All</th>\n",
       "    </tr>\n",
       "    <tr>\n",
       "      <th>True</th>\n",
       "      <th></th>\n",
       "      <th></th>\n",
       "      <th></th>\n",
       "      <th></th>\n",
       "      <th></th>\n",
       "      <th></th>\n",
       "    </tr>\n",
       "  </thead>\n",
       "  <tbody>\n",
       "    <tr>\n",
       "      <th>0</th>\n",
       "      <td>11851</td>\n",
       "      <td>0</td>\n",
       "      <td>0</td>\n",
       "      <td>0</td>\n",
       "      <td>0</td>\n",
       "      <td>11851</td>\n",
       "    </tr>\n",
       "    <tr>\n",
       "      <th>1</th>\n",
       "      <td>0</td>\n",
       "      <td>2958</td>\n",
       "      <td>0</td>\n",
       "      <td>0</td>\n",
       "      <td>0</td>\n",
       "      <td>2958</td>\n",
       "    </tr>\n",
       "    <tr>\n",
       "      <th>2</th>\n",
       "      <td>0</td>\n",
       "      <td>0</td>\n",
       "      <td>1317</td>\n",
       "      <td>0</td>\n",
       "      <td>0</td>\n",
       "      <td>1317</td>\n",
       "    </tr>\n",
       "    <tr>\n",
       "      <th>3</th>\n",
       "      <td>0</td>\n",
       "      <td>0</td>\n",
       "      <td>333</td>\n",
       "      <td>376</td>\n",
       "      <td>0</td>\n",
       "      <td>709</td>\n",
       "    </tr>\n",
       "    <tr>\n",
       "      <th>4</th>\n",
       "      <td>0</td>\n",
       "      <td>0</td>\n",
       "      <td>103</td>\n",
       "      <td>26</td>\n",
       "      <td>188</td>\n",
       "      <td>317</td>\n",
       "    </tr>\n",
       "    <tr>\n",
       "      <th>5</th>\n",
       "      <td>0</td>\n",
       "      <td>0</td>\n",
       "      <td>9</td>\n",
       "      <td>1</td>\n",
       "      <td>25</td>\n",
       "      <td>35</td>\n",
       "    </tr>\n",
       "    <tr>\n",
       "      <th>All</th>\n",
       "      <td>11851</td>\n",
       "      <td>2958</td>\n",
       "      <td>1762</td>\n",
       "      <td>403</td>\n",
       "      <td>213</td>\n",
       "      <td>17187</td>\n",
       "    </tr>\n",
       "  </tbody>\n",
       "</table>\n",
       "</div>"
      ],
      "text/plain": [
       "Predicted      0     1     2    3    4    All\n",
       "True                                         \n",
       "0          11851     0     0    0    0  11851\n",
       "1              0  2958     0    0    0   2958\n",
       "2              0     0  1317    0    0   1317\n",
       "3              0     0   333  376    0    709\n",
       "4              0     0   103   26  188    317\n",
       "5              0     0     9    1   25     35\n",
       "All        11851  2958  1762  403  213  17187"
      ]
     },
     "metadata": {},
     "output_type": "display_data"
    },
    {
     "data": {
      "text/plain": [
       "'All the variables with the best parameters from cross-validation:'"
      ]
     },
     "metadata": {},
     "output_type": "display_data"
    },
    {
     "data": {
      "text/html": [
       "<div>\n",
       "<style scoped>\n",
       "    .dataframe tbody tr th:only-of-type {\n",
       "        vertical-align: middle;\n",
       "    }\n",
       "\n",
       "    .dataframe tbody tr th {\n",
       "        vertical-align: top;\n",
       "    }\n",
       "\n",
       "    .dataframe thead th {\n",
       "        text-align: right;\n",
       "    }\n",
       "</style>\n",
       "<table border=\"1\" class=\"dataframe\">\n",
       "  <thead>\n",
       "    <tr style=\"text-align: right;\">\n",
       "      <th>Predicted</th>\n",
       "      <th>0</th>\n",
       "      <th>1</th>\n",
       "      <th>2</th>\n",
       "      <th>3</th>\n",
       "      <th>4</th>\n",
       "      <th>5</th>\n",
       "      <th>All</th>\n",
       "    </tr>\n",
       "    <tr>\n",
       "      <th>True</th>\n",
       "      <th></th>\n",
       "      <th></th>\n",
       "      <th></th>\n",
       "      <th></th>\n",
       "      <th></th>\n",
       "      <th></th>\n",
       "      <th></th>\n",
       "    </tr>\n",
       "  </thead>\n",
       "  <tbody>\n",
       "    <tr>\n",
       "      <th>0</th>\n",
       "      <td>11851</td>\n",
       "      <td>0</td>\n",
       "      <td>0</td>\n",
       "      <td>0</td>\n",
       "      <td>0</td>\n",
       "      <td>0</td>\n",
       "      <td>11851</td>\n",
       "    </tr>\n",
       "    <tr>\n",
       "      <th>1</th>\n",
       "      <td>0</td>\n",
       "      <td>2958</td>\n",
       "      <td>0</td>\n",
       "      <td>0</td>\n",
       "      <td>0</td>\n",
       "      <td>0</td>\n",
       "      <td>2958</td>\n",
       "    </tr>\n",
       "    <tr>\n",
       "      <th>2</th>\n",
       "      <td>0</td>\n",
       "      <td>0</td>\n",
       "      <td>1316</td>\n",
       "      <td>1</td>\n",
       "      <td>0</td>\n",
       "      <td>0</td>\n",
       "      <td>1317</td>\n",
       "    </tr>\n",
       "    <tr>\n",
       "      <th>3</th>\n",
       "      <td>0</td>\n",
       "      <td>0</td>\n",
       "      <td>0</td>\n",
       "      <td>708</td>\n",
       "      <td>1</td>\n",
       "      <td>0</td>\n",
       "      <td>709</td>\n",
       "    </tr>\n",
       "    <tr>\n",
       "      <th>4</th>\n",
       "      <td>0</td>\n",
       "      <td>0</td>\n",
       "      <td>0</td>\n",
       "      <td>2</td>\n",
       "      <td>315</td>\n",
       "      <td>0</td>\n",
       "      <td>317</td>\n",
       "    </tr>\n",
       "    <tr>\n",
       "      <th>5</th>\n",
       "      <td>0</td>\n",
       "      <td>0</td>\n",
       "      <td>0</td>\n",
       "      <td>0</td>\n",
       "      <td>1</td>\n",
       "      <td>34</td>\n",
       "      <td>35</td>\n",
       "    </tr>\n",
       "    <tr>\n",
       "      <th>All</th>\n",
       "      <td>11851</td>\n",
       "      <td>2958</td>\n",
       "      <td>1316</td>\n",
       "      <td>711</td>\n",
       "      <td>317</td>\n",
       "      <td>34</td>\n",
       "      <td>17187</td>\n",
       "    </tr>\n",
       "  </tbody>\n",
       "</table>\n",
       "</div>"
      ],
      "text/plain": [
       "Predicted      0     1     2    3    4   5    All\n",
       "True                                             \n",
       "0          11851     0     0    0    0   0  11851\n",
       "1              0  2958     0    0    0   0   2958\n",
       "2              0     0  1316    1    0   0   1317\n",
       "3              0     0     0  708    1   0    709\n",
       "4              0     0     0    2  315   0    317\n",
       "5              0     0     0    0    1  34     35\n",
       "All        11851  2958  1316  711  317  34  17187"
      ]
     },
     "metadata": {},
     "output_type": "display_data"
    }
   ],
   "source": [
    "display(\"The base confusion matrix with all the variables:\", base_conf_matrix)\n",
    "display(\"The new confusion matrix with important variables:\" ,new_conf_matrix)\n",
    "display(\"All the variables with the best parameters from cross-validation:\", \n",
    "        best_conf_matrix)"
   ]
  },
  {
   "cell_type": "markdown",
   "metadata": {},
   "source": [
    "The `base model` accurately classifies rows belonging to Categories 0 and 1. It does a decent job at classifying Categories 2 and 5 but it doesn't classify Categories 3 and 4 well.\n",
    "\n",
    "The `model with reduced features` classifies Categories 0,1, and 2 really well. It does a better job than the base model at classifying Categories 3, 4, and 5.\n",
    "\n",
    "The `best parameters model` classifies almost all of the Categories well. The worst Category it classifies is Category 4 and it's only off by 2. "
   ]
  },
  {
   "cell_type": "markdown",
   "metadata": {},
   "source": [
    "#### Classification Report"
   ]
  },
  {
   "cell_type": "markdown",
   "metadata": {},
   "source": [
    "***Accuracy*** is not usually the best measure to determine if a classification is a good model. Therefore, the precision, recall, f1 score, and support for each of the three classification models are computed.\n",
    "\n",
    "<br> **Precision**: It is defined as the number of times the model is correct in predicting that a row belongs to a category. [1]</br>\n",
    "\n",
    "<br> **Recall** :It is a measure of how often are the predicted and actual category the same.[1]</br>\n",
    "\n",
    "<br> **F1 Score** : It is defined as the mean of the precision and recall.</br>\n",
    "\n",
    "<br> **Support** : This measures the total number of values in the dataset that fall under this category. </br>"
   ]
  },
  {
   "cell_type": "code",
   "execution_count": 64,
   "metadata": {},
   "outputs": [
    {
     "name": "stdout",
     "output_type": "stream",
     "text": [
      "The base classification report is:\n",
      "               precision    recall  f1-score   support\n",
      "\n",
      "           0       1.00      1.00      1.00     11851\n",
      "           1       0.85      1.00      0.92      2958\n",
      "           2       0.96      1.00      0.98      1317\n",
      "           3       0.95      0.33      0.48       709\n",
      "           4       0.86      0.58      0.69       317\n",
      "           5       0.00      0.00      0.00        35\n",
      "\n",
      "   micro avg       0.96      0.96      0.96     17187\n",
      "   macro avg       0.77      0.65      0.68     17187\n",
      "weighted avg       0.96      0.96      0.95     17187\n",
      "\n",
      "The new classification report is:\n",
      "               precision    recall  f1-score   support\n",
      "\n",
      "           0       1.00      1.00      1.00     11851\n",
      "           1       1.00      1.00      1.00      2958\n",
      "           2       0.75      1.00      0.86      1317\n",
      "           3       0.93      0.53      0.68       709\n",
      "           4       0.88      0.59      0.71       317\n",
      "           5       0.00      0.00      0.00        35\n",
      "\n",
      "   micro avg       0.97      0.97      0.97     17187\n",
      "   macro avg       0.76      0.69      0.71     17187\n",
      "weighted avg       0.97      0.97      0.97     17187\n",
      "\n",
      "The best parameters classification report is:\n",
      "               precision    recall  f1-score   support\n",
      "\n",
      "           0       1.00      1.00      1.00     11851\n",
      "           1       1.00      1.00      1.00      2958\n",
      "           2       1.00      1.00      1.00      1317\n",
      "           3       1.00      1.00      1.00       709\n",
      "           4       0.99      0.99      0.99       317\n",
      "           5       1.00      0.97      0.99        35\n",
      "\n",
      "   micro avg       1.00      1.00      1.00     17187\n",
      "   macro avg       1.00      0.99      1.00     17187\n",
      "weighted avg       1.00      1.00      1.00     17187\n",
      "\n"
     ]
    }
   ],
   "source": [
    "print(\"The base classification report is:\\n\", base_rf_report)\n",
    "print(\"The new classification report is:\\n\", new_rf_report)\n",
    "print(\"The best parameters classification report is:\\n\", best_rf_report)"
   ]
  },
  {
   "cell_type": "markdown",
   "metadata": {},
   "source": [
    "The *precision*, *recall*, and *f1 score* remain the same for Category 0 in all three cases. The *precision* increases significantly from the base model to the new model and the new model and best parameters model have the same precision for Category 1. There is a significant decrease in the precision of Category 2 from the base model to the new model but the precision increases significantly for the best parameters model. The *recall* for Categories 3,4, and 5 is significantly low in the base model as well as the new model but they significantly increase to almost 100% in the best parameters model. Categories 3 and 4 have relatively lower values for f1 scores and Category 5 is 0. This value significantly imporves in the new classification model. "
   ]
  },
  {
   "cell_type": "markdown",
   "metadata": {},
   "source": [
    "#### Feature Importance"
   ]
  },
  {
   "cell_type": "code",
   "execution_count": 65,
   "metadata": {},
   "outputs": [
    {
     "data": {
      "text/plain": [
       "'The coefficients of the base model are'"
      ]
     },
     "metadata": {},
     "output_type": "display_data"
    },
    {
     "data": {
      "text/html": [
       "<div>\n",
       "<style scoped>\n",
       "    .dataframe tbody tr th:only-of-type {\n",
       "        vertical-align: middle;\n",
       "    }\n",
       "\n",
       "    .dataframe tbody tr th {\n",
       "        vertical-align: top;\n",
       "    }\n",
       "\n",
       "    .dataframe thead th {\n",
       "        text-align: right;\n",
       "    }\n",
       "</style>\n",
       "<table border=\"1\" class=\"dataframe\">\n",
       "  <thead>\n",
       "    <tr style=\"text-align: right;\">\n",
       "      <th></th>\n",
       "      <th>Importance of Features</th>\n",
       "    </tr>\n",
       "  </thead>\n",
       "  <tbody>\n",
       "    <tr>\n",
       "      <th>Maximum Wind</th>\n",
       "      <td>0.693561</td>\n",
       "    </tr>\n",
       "    <tr>\n",
       "      <th>Minimum Pressure</th>\n",
       "      <td>0.154915</td>\n",
       "    </tr>\n",
       "    <tr>\n",
       "      <th>Low Wind NE</th>\n",
       "      <td>0.000953</td>\n",
       "    </tr>\n",
       "    <tr>\n",
       "      <th>Low Wind SE</th>\n",
       "      <td>0.001308</td>\n",
       "    </tr>\n",
       "    <tr>\n",
       "      <th>Low Wind SW</th>\n",
       "      <td>0.003998</td>\n",
       "    </tr>\n",
       "    <tr>\n",
       "      <th>Low Wind NW</th>\n",
       "      <td>0.001171</td>\n",
       "    </tr>\n",
       "    <tr>\n",
       "      <th>Moderate Wind NE</th>\n",
       "      <td>0.002932</td>\n",
       "    </tr>\n",
       "    <tr>\n",
       "      <th>Moderate Wind SE</th>\n",
       "      <td>0.006990</td>\n",
       "    </tr>\n",
       "    <tr>\n",
       "      <th>Moderate Wind SW</th>\n",
       "      <td>0.007534</td>\n",
       "    </tr>\n",
       "    <tr>\n",
       "      <th>Moderate Wind NW</th>\n",
       "      <td>0.004503</td>\n",
       "    </tr>\n",
       "    <tr>\n",
       "      <th>High Wind NE</th>\n",
       "      <td>0.024530</td>\n",
       "    </tr>\n",
       "    <tr>\n",
       "      <th>High Wind SE</th>\n",
       "      <td>0.025848</td>\n",
       "    </tr>\n",
       "    <tr>\n",
       "      <th>High Wind SW</th>\n",
       "      <td>0.012430</td>\n",
       "    </tr>\n",
       "    <tr>\n",
       "      <th>High Wind NW</th>\n",
       "      <td>0.012925</td>\n",
       "    </tr>\n",
       "    <tr>\n",
       "      <th>Lifetime_hours</th>\n",
       "      <td>0.046403</td>\n",
       "    </tr>\n",
       "  </tbody>\n",
       "</table>\n",
       "</div>"
      ],
      "text/plain": [
       "                  Importance of Features\n",
       "Maximum Wind                    0.693561\n",
       "Minimum Pressure                0.154915\n",
       "Low Wind NE                     0.000953\n",
       "Low Wind SE                     0.001308\n",
       "Low Wind SW                     0.003998\n",
       "Low Wind NW                     0.001171\n",
       "Moderate Wind NE                0.002932\n",
       "Moderate Wind SE                0.006990\n",
       "Moderate Wind SW                0.007534\n",
       "Moderate Wind NW                0.004503\n",
       "High Wind NE                    0.024530\n",
       "High Wind SE                    0.025848\n",
       "High Wind SW                    0.012430\n",
       "High Wind NW                    0.012925\n",
       "Lifetime_hours                  0.046403"
      ]
     },
     "metadata": {},
     "output_type": "display_data"
    },
    {
     "data": {
      "text/plain": [
       "'The reduced coefficients of the new model are'"
      ]
     },
     "metadata": {},
     "output_type": "display_data"
    },
    {
     "data": {
      "text/html": [
       "<div>\n",
       "<style scoped>\n",
       "    .dataframe tbody tr th:only-of-type {\n",
       "        vertical-align: middle;\n",
       "    }\n",
       "\n",
       "    .dataframe tbody tr th {\n",
       "        vertical-align: top;\n",
       "    }\n",
       "\n",
       "    .dataframe thead th {\n",
       "        text-align: right;\n",
       "    }\n",
       "</style>\n",
       "<table border=\"1\" class=\"dataframe\">\n",
       "  <thead>\n",
       "    <tr style=\"text-align: right;\">\n",
       "      <th></th>\n",
       "      <th>Importance of Features</th>\n",
       "    </tr>\n",
       "  </thead>\n",
       "  <tbody>\n",
       "    <tr>\n",
       "      <th>Maximum Wind</th>\n",
       "      <td>0.815537</td>\n",
       "    </tr>\n",
       "    <tr>\n",
       "      <th>Minimum Pressure</th>\n",
       "      <td>0.117750</td>\n",
       "    </tr>\n",
       "    <tr>\n",
       "      <th>Lifetime_hours</th>\n",
       "      <td>0.029516</td>\n",
       "    </tr>\n",
       "    <tr>\n",
       "      <th>High Wind SE</th>\n",
       "      <td>0.014068</td>\n",
       "    </tr>\n",
       "    <tr>\n",
       "      <th>High Wind NE</th>\n",
       "      <td>0.018702</td>\n",
       "    </tr>\n",
       "    <tr>\n",
       "      <th>High Wind NW</th>\n",
       "      <td>0.004427</td>\n",
       "    </tr>\n",
       "  </tbody>\n",
       "</table>\n",
       "</div>"
      ],
      "text/plain": [
       "                  Importance of Features\n",
       "Maximum Wind                    0.815537\n",
       "Minimum Pressure                0.117750\n",
       "Lifetime_hours                  0.029516\n",
       "High Wind SE                    0.014068\n",
       "High Wind NE                    0.018702\n",
       "High Wind NW                    0.004427"
      ]
     },
     "metadata": {},
     "output_type": "display_data"
    },
    {
     "data": {
      "text/plain": [
       "'The model without the variable Maximum Wind'"
      ]
     },
     "metadata": {},
     "output_type": "display_data"
    },
    {
     "data": {
      "text/html": [
       "<div>\n",
       "<style scoped>\n",
       "    .dataframe tbody tr th:only-of-type {\n",
       "        vertical-align: middle;\n",
       "    }\n",
       "\n",
       "    .dataframe tbody tr th {\n",
       "        vertical-align: top;\n",
       "    }\n",
       "\n",
       "    .dataframe thead th {\n",
       "        text-align: right;\n",
       "    }\n",
       "</style>\n",
       "<table border=\"1\" class=\"dataframe\">\n",
       "  <thead>\n",
       "    <tr style=\"text-align: right;\">\n",
       "      <th></th>\n",
       "      <th>Importance of Features</th>\n",
       "    </tr>\n",
       "  </thead>\n",
       "  <tbody>\n",
       "    <tr>\n",
       "      <th>Minimum Pressure</th>\n",
       "      <td>0.498321</td>\n",
       "    </tr>\n",
       "    <tr>\n",
       "      <th>Low Wind NE</th>\n",
       "      <td>0.003320</td>\n",
       "    </tr>\n",
       "    <tr>\n",
       "      <th>Low Wind SE</th>\n",
       "      <td>0.006308</td>\n",
       "    </tr>\n",
       "    <tr>\n",
       "      <th>Low Wind SW</th>\n",
       "      <td>0.005551</td>\n",
       "    </tr>\n",
       "    <tr>\n",
       "      <th>Low Wind NW</th>\n",
       "      <td>0.003569</td>\n",
       "    </tr>\n",
       "    <tr>\n",
       "      <th>Moderate Wind NE</th>\n",
       "      <td>0.019601</td>\n",
       "    </tr>\n",
       "    <tr>\n",
       "      <th>Moderate Wind SE</th>\n",
       "      <td>0.018154</td>\n",
       "    </tr>\n",
       "    <tr>\n",
       "      <th>Moderate Wind SW</th>\n",
       "      <td>0.018701</td>\n",
       "    </tr>\n",
       "    <tr>\n",
       "      <th>Moderate Wind NW</th>\n",
       "      <td>0.028788</td>\n",
       "    </tr>\n",
       "    <tr>\n",
       "      <th>High Wind NE</th>\n",
       "      <td>0.088450</td>\n",
       "    </tr>\n",
       "    <tr>\n",
       "      <th>High Wind SE</th>\n",
       "      <td>0.080559</td>\n",
       "    </tr>\n",
       "    <tr>\n",
       "      <th>High Wind SW</th>\n",
       "      <td>0.038133</td>\n",
       "    </tr>\n",
       "    <tr>\n",
       "      <th>High Wind NW</th>\n",
       "      <td>0.044297</td>\n",
       "    </tr>\n",
       "    <tr>\n",
       "      <th>Lifetime_hours</th>\n",
       "      <td>0.146248</td>\n",
       "    </tr>\n",
       "  </tbody>\n",
       "</table>\n",
       "</div>"
      ],
      "text/plain": [
       "                  Importance of Features\n",
       "Minimum Pressure                0.498321\n",
       "Low Wind NE                     0.003320\n",
       "Low Wind SE                     0.006308\n",
       "Low Wind SW                     0.005551\n",
       "Low Wind NW                     0.003569\n",
       "Moderate Wind NE                0.019601\n",
       "Moderate Wind SE                0.018154\n",
       "Moderate Wind SW                0.018701\n",
       "Moderate Wind NW                0.028788\n",
       "High Wind NE                    0.088450\n",
       "High Wind SE                    0.080559\n",
       "High Wind SW                    0.038133\n",
       "High Wind NW                    0.044297\n",
       "Lifetime_hours                  0.146248"
      ]
     },
     "metadata": {},
     "output_type": "display_data"
    }
   ],
   "source": [
    "display(\"The coefficients of the base model are\", Initial_model_features)\n",
    "display(\"The reduced coefficients of the new model are\", new_model)\n",
    "display(\"The model without the variable Maximum Wind\", nw_model)"
   ]
  },
  {
   "cell_type": "markdown",
   "metadata": {},
   "source": [
    "The `base model` shows us that `Maximum Wind` has the highest importance in the model followed by `Minimum Pressure`, and `Lifetime_hours`. \n",
    "\n",
    "The `model with reduced features` shows us that `Maximum Wind` is the most important feature, followed by `Minimum Pressure`, `Lifetime_hours`, `High Wind SE`, `High Wind NE`, and finally, `High Wind NW`.\n",
    "\n",
    "The `model with Maximum Wind removed` was used to see if removing an important variable, which was dominating the results,would give us a better understanding of the other variables. We see that `Maximum Pressure` and `Lifetime_hours` are important features along with `High Wind NE` and `High Wind SE`. Removing the `Maximum Wind` feature, however, did not give us any new information."
   ]
  },
  {
   "cell_type": "markdown",
   "metadata": {},
   "source": [
    "#### Out of bag error"
   ]
  },
  {
   "cell_type": "code",
   "execution_count": 66,
   "metadata": {},
   "outputs": [
    {
     "name": "stdout",
     "output_type": "stream",
     "text": [
      "The out of bag error for the base model is: 0.9450466821229401 \n",
      "The out of bag error for the reduced features model is: 0.9744031580926124 \n",
      "The out of bag error for the model with Maximum Wind removed is: 0.7391440566451533\n"
     ]
    }
   ],
   "source": [
    "print(\"The out of bag error for the base model is:\",\n",
    "      base_rf.oob_score_,\n",
    "      \"\\nThe out of bag error for the reduced features model is:\", \n",
    "      rf_new.oob_score_,\n",
    "      \"\\nThe out of bag error for the model with Maximum Wind removed is:\", \n",
    "      rf_nw.oob_score_)"
   ]
  },
  {
   "cell_type": "markdown",
   "metadata": {},
   "source": [
    "Based on the out of bag errors above, the `base model` misclassifies about 5% of the samples, the `reduced features model` misclassifies less than 3% of the samples and `the model without Maximum Wind` misclassifies about 26% of the samples."
   ]
  },
  {
   "cell_type": "markdown",
   "metadata": {},
   "source": [
    "#### Exploratory Data Analysis"
   ]
  },
  {
   "cell_type": "code",
   "execution_count": 67,
   "metadata": {},
   "outputs": [
    {
     "data": {
      "image/png": "[encoded data removed]",
      "text/plain": [
       "<Figure size 432x288 with 1 Axes>"
      ]
     },
     "metadata": {
      "needs_background": "light"
     },
     "output_type": "display_data"
    }
   ],
   "source": [
    "sns.boxplot(x = \"Category\", y = \"Low Wind SW\",data = final_atlantic);"
   ]
  },
  {
   "cell_type": "code",
   "execution_count": 68,
   "metadata": {},
   "outputs": [
    {
     "data": {
      "image/png": "[encoded data removed]",
      "text/plain": [
       "<Figure size 432x288 with 1 Axes>"
      ]
     },
     "metadata": {
      "needs_background": "light"
     },
     "output_type": "display_data"
    }
   ],
   "source": [
    "sns.boxplot(x = \"Category\", y = \"Low Wind NW\",data = final_atlantic);"
   ]
  },
  {
   "cell_type": "code",
   "execution_count": 69,
   "metadata": {},
   "outputs": [
    {
     "data": {
      "image/png": "[encoded data removed]",
      "text/plain": [
       "<Figure size 432x288 with 1 Axes>"
      ]
     },
     "metadata": {
      "needs_background": "light"
     },
     "output_type": "display_data"
    }
   ],
   "source": [
    "sns.boxplot(x = \"Category\", y = \"Moderate Wind NE\",data = final_atlantic);"
   ]
  },
  {
   "cell_type": "code",
   "execution_count": 70,
   "metadata": {},
   "outputs": [
    {
     "data": {
      "image/png": "[encoded data removed]",
      "text/plain": [
       "<Figure size 432x288 with 1 Axes>"
      ]
     },
     "metadata": {
      "needs_background": "light"
     },
     "output_type": "display_data"
    }
   ],
   "source": [
    "sns.boxplot(x = \"Category\", y = \"Moderate Wind SE\",data = final_atlantic);"
   ]
  },
  {
   "cell_type": "code",
   "execution_count": 71,
   "metadata": {},
   "outputs": [
    {
     "data": {
      "image/png": "[encoded data removed]",
      "text/plain": [
       "<Figure size 432x288 with 1 Axes>"
      ]
     },
     "metadata": {
      "needs_background": "light"
     },
     "output_type": "display_data"
    }
   ],
   "source": [
    "sns.boxplot(x = \"Category\", y = \"Moderate Wind SW\",data = final_atlantic);"
   ]
  },
  {
   "cell_type": "code",
   "execution_count": 72,
   "metadata": {},
   "outputs": [
    {
     "data": {
      "image/png": "[encoded data removed]",
      "text/plain": [
       "<Figure size 432x288 with 1 Axes>"
      ]
     },
     "metadata": {
      "needs_background": "light"
     },
     "output_type": "display_data"
    }
   ],
   "source": [
    "sns.boxplot(x = \"Category\", y = \"Moderate Wind NW\",data = final_atlantic);"
   ]
  },
  {
   "cell_type": "code",
   "execution_count": 73,
   "metadata": {},
   "outputs": [
    {
     "data": {
      "image/png": "[encoded data removed]",
      "text/plain": [
       "<Figure size 432x288 with 1 Axes>"
      ]
     },
     "metadata": {
      "needs_background": "light"
     },
     "output_type": "display_data"
    }
   ],
   "source": [
    "sns.boxplot(x = \"Category\", y = \"High Wind NE\",data = final_atlantic);"
   ]
  },
  {
   "cell_type": "code",
   "execution_count": 74,
   "metadata": {},
   "outputs": [
    {
     "data": {
      "image/png": "[encoded data removed]",
      "text/plain": [
       "<Figure size 432x288 with 1 Axes>"
      ]
     },
     "metadata": {
      "needs_background": "light"
     },
     "output_type": "display_data"
    }
   ],
   "source": [
    "sns.boxplot(x = \"Category\", y = \"High Wind SE\",data = final_atlantic);"
   ]
  },
  {
   "cell_type": "code",
   "execution_count": 75,
   "metadata": {},
   "outputs": [
    {
     "data": {
      "image/png": "[encoded data removed]",
      "text/plain": [
       "<Figure size 432x288 with 1 Axes>"
      ]
     },
     "metadata": {
      "needs_background": "light"
     },
     "output_type": "display_data"
    }
   ],
   "source": [
    "sns.boxplot(x = \"Category\", y = \"High Wind SW\",data = final_atlantic);"
   ]
  },
  {
   "cell_type": "code",
   "execution_count": 76,
   "metadata": {},
   "outputs": [
    {
     "data": {
      "image/png": "[encoded data removed]",
      "text/plain": [
       "<Figure size 432x288 with 1 Axes>"
      ]
     },
     "metadata": {
      "needs_background": "light"
     },
     "output_type": "display_data"
    }
   ],
   "source": [
    "sns.boxplot(x = \"Category\", y = \"High Wind NW\",data = final_atlantic);"
   ]
  },
  {
   "cell_type": "code",
   "execution_count": 77,
   "metadata": {},
   "outputs": [
    {
     "data": {
      "image/png": "[encoded data removed]",
      "text/plain": [
       "<Figure size 432x288 with 1 Axes>"
      ]
     },
     "metadata": {
      "needs_background": "light"
     },
     "output_type": "display_data"
    }
   ],
   "source": [
    "sns.boxplot(x = \"Category\", y = \"Low Wind SE\",data = final_atlantic);"
   ]
  },
  {
   "cell_type": "code",
   "execution_count": 78,
   "metadata": {},
   "outputs": [
    {
     "data": {
      "image/png": "[encoded data removed]",
      "text/plain": [
       "<Figure size 432x288 with 1 Axes>"
      ]
     },
     "metadata": {
      "needs_background": "light"
     },
     "output_type": "display_data"
    }
   ],
   "source": [
    "sns.boxplot(x = \"Category\", y = \"Low Wind NE\",data = final_atlantic);"
   ]
  },
  {
   "cell_type": "code",
   "execution_count": 79,
   "metadata": {},
   "outputs": [
    {
     "data": {
      "image/png": "[encoded data removed]",
      "text/plain": [
       "<Figure size 432x288 with 1 Axes>"
      ]
     },
     "metadata": {
      "needs_background": "light"
     },
     "output_type": "display_data"
    }
   ],
   "source": [
    "sns.boxplot(x = \"Category\", y = \"Minimum Pressure\",data = final_atlantic);"
   ]
  },
  {
   "cell_type": "code",
   "execution_count": 80,
   "metadata": {},
   "outputs": [
    {
     "data": {
      "image/png": "[encoded data removed]",
      "text/plain": [
       "<Figure size 432x288 with 1 Axes>"
      ]
     },
     "metadata": {
      "needs_background": "light"
     },
     "output_type": "display_data"
    }
   ],
   "source": [
    "sns.boxplot(x = \"Category\", y = \"Maximum Wind\",data = final_atlantic);"
   ]
  },
  {
   "cell_type": "code",
   "execution_count": 81,
   "metadata": {},
   "outputs": [
    {
     "data": {
      "image/png": "[encoded data removed]",
      "text/plain": [
       "<Figure size 432x288 with 1 Axes>"
      ]
     },
     "metadata": {
      "needs_background": "light"
     },
     "output_type": "display_data"
    }
   ],
   "source": [
    "sns.boxplot(x = \"Category\", y = \"Lifetime_hours\", data = final_atlantic); "
   ]
  },
  {
   "cell_type": "code",
   "execution_count": 82,
   "metadata": {},
   "outputs": [
    {
     "data": {
      "text/html": [
       "<div>\n",
       "<style scoped>\n",
       "    .dataframe tbody tr th:only-of-type {\n",
       "        vertical-align: middle;\n",
       "    }\n",
       "\n",
       "    .dataframe tbody tr th {\n",
       "        vertical-align: top;\n",
       "    }\n",
       "\n",
       "    .dataframe thead th {\n",
       "        text-align: right;\n",
       "    }\n",
       "</style>\n",
       "<table border=\"1\" class=\"dataframe\">\n",
       "  <thead>\n",
       "    <tr style=\"text-align: right;\">\n",
       "      <th></th>\n",
       "      <th>ID</th>\n",
       "      <th>Name</th>\n",
       "      <th>Date</th>\n",
       "      <th>Time</th>\n",
       "      <th>Event</th>\n",
       "      <th>Status</th>\n",
       "      <th>Latitude</th>\n",
       "      <th>Longitude</th>\n",
       "      <th>DateTime</th>\n",
       "    </tr>\n",
       "  </thead>\n",
       "  <tbody>\n",
       "    <tr>\n",
       "      <th>count</th>\n",
       "      <td>49105</td>\n",
       "      <td>49105</td>\n",
       "      <td>49105</td>\n",
       "      <td>49105</td>\n",
       "      <td>49105</td>\n",
       "      <td>49105</td>\n",
       "      <td>49105</td>\n",
       "      <td>49105</td>\n",
       "      <td>49105</td>\n",
       "    </tr>\n",
       "    <tr>\n",
       "      <th>unique</th>\n",
       "      <td>1814</td>\n",
       "      <td>288</td>\n",
       "      <td>9983</td>\n",
       "      <td>92</td>\n",
       "      <td>10</td>\n",
       "      <td>9</td>\n",
       "      <td>597</td>\n",
       "      <td>1036</td>\n",
       "      <td>38310</td>\n",
       "    </tr>\n",
       "    <tr>\n",
       "      <th>top</th>\n",
       "      <td>AL031899</td>\n",
       "      <td>UNNAMED</td>\n",
       "      <td>19710912</td>\n",
       "      <td>1200</td>\n",
       "      <td></td>\n",
       "      <td>TS</td>\n",
       "      <td>28.0N</td>\n",
       "      <td>65.0W</td>\n",
       "      <td>1971-09-12 00:00:00</td>\n",
       "    </tr>\n",
       "    <tr>\n",
       "      <th>freq</th>\n",
       "      <td>133</td>\n",
       "      <td>26563</td>\n",
       "      <td>24</td>\n",
       "      <td>12296</td>\n",
       "      <td>48141</td>\n",
       "      <td>17804</td>\n",
       "      <td>299</td>\n",
       "      <td>181</td>\n",
       "      <td>6</td>\n",
       "    </tr>\n",
       "    <tr>\n",
       "      <th>first</th>\n",
       "      <td>NaN</td>\n",
       "      <td>NaN</td>\n",
       "      <td>NaN</td>\n",
       "      <td>NaN</td>\n",
       "      <td>NaN</td>\n",
       "      <td>NaN</td>\n",
       "      <td>NaN</td>\n",
       "      <td>NaN</td>\n",
       "      <td>1851-06-25 00:00:00</td>\n",
       "    </tr>\n",
       "    <tr>\n",
       "      <th>last</th>\n",
       "      <td>NaN</td>\n",
       "      <td>NaN</td>\n",
       "      <td>NaN</td>\n",
       "      <td>NaN</td>\n",
       "      <td>NaN</td>\n",
       "      <td>NaN</td>\n",
       "      <td>NaN</td>\n",
       "      <td>NaN</td>\n",
       "      <td>2015-11-13 12:00:00</td>\n",
       "    </tr>\n",
       "  </tbody>\n",
       "</table>\n",
       "</div>"
      ],
      "text/plain": [
       "              ID     Name      Date   Time  Event Status Latitude Longitude  \\\n",
       "count      49105    49105     49105  49105  49105  49105    49105     49105   \n",
       "unique      1814      288      9983     92     10      9      597      1036   \n",
       "top     AL031899  UNNAMED  19710912   1200            TS    28.0N     65.0W   \n",
       "freq         133    26563        24  12296  48141  17804      299       181   \n",
       "first        NaN      NaN       NaN    NaN    NaN    NaN      NaN       NaN   \n",
       "last         NaN      NaN       NaN    NaN    NaN    NaN      NaN       NaN   \n",
       "\n",
       "                   DateTime  \n",
       "count                 49105  \n",
       "unique                38310  \n",
       "top     1971-09-12 00:00:00  \n",
       "freq                      6  \n",
       "first   1851-06-25 00:00:00  \n",
       "last    2015-11-13 12:00:00  "
      ]
     },
     "execution_count": 82,
     "metadata": {},
     "output_type": "execute_result"
    }
   ],
   "source": [
    "final_atlantic.describe(exclude = [np.number])"
   ]
  },
  {
   "cell_type": "code",
   "execution_count": 83,
   "metadata": {},
   "outputs": [
    {
     "data": {
      "text/plain": [
       "ID                      0\n",
       "Name                    0\n",
       "Date                    0\n",
       "Time                    0\n",
       "Event                   0\n",
       "Status                  0\n",
       "Latitude                0\n",
       "Longitude               0\n",
       "Maximum Wind            0\n",
       "Minimum Pressure    30669\n",
       "Low Wind NE         43184\n",
       "Low Wind SE         43184\n",
       "Low Wind SW         43184\n",
       "Low Wind NW         43184\n",
       "Moderate Wind NE    43184\n",
       "Moderate Wind SE    43184\n",
       "Moderate Wind SW    43184\n",
       "Moderate Wind NW    43184\n",
       "High Wind NE        43184\n",
       "High Wind SE        43184\n",
       "High Wind SW        43184\n",
       "High Wind NW        43184\n",
       "Category                0\n",
       "DateTime                0\n",
       "Lifetime                0\n",
       "Lifetime_hours          0\n",
       "dtype: int64"
      ]
     },
     "execution_count": 83,
     "metadata": {},
     "output_type": "execute_result"
    }
   ],
   "source": [
    "final_atlantic.isna().sum()"
   ]
  },
  {
   "cell_type": "code",
   "execution_count": 84,
   "metadata": {},
   "outputs": [
    {
     "data": {
      "text/plain": [
       "(49105, 26)"
      ]
     },
     "execution_count": 84,
     "metadata": {},
     "output_type": "execute_result"
    }
   ],
   "source": [
    "final_atlantic.shape"
   ]
  },
  {
   "cell_type": "markdown",
   "metadata": {},
   "source": [
    "When looking at the null values for each column and the shape of the dataframe, it appears that a majority of the rows for `Low Winds`, `Moderate Winds`, and `High Wind (NE, SE, SW, and NW)` are empty. This absence of values may make it harder to find the effect of these variables on the `Category` of the hurricane. It should also be noted that `Maximum Wind` does not have any null values which could explain its large effect on the `Category` of the hurricane."
   ]
  },
  {
   "cell_type": "markdown",
   "metadata": {},
   "source": [
    "<br>The above table shows us the coefficients obtained from the base model. It can be observed that `Maximum Wind` has the highest coefficient which makes sense because `Maximum Wind` was primary variable used to determine the category of the tropical cyclone. `Minimum Pressure` seems to be the second most essential variable in the classification of a tropical cyclone. `Low Wind NE` seems to be the least important variable in the classification.</br>\n",
    "The second table shows us the results of tailoring the training data to contain only the variables with significantly high importance from the base model.After removing some variables, the coefficient of the `Maximum Wind` variable further increased while the coefficient of the `Minimum Pressure` variable decreased. "
   ]
  },
  {
   "cell_type": "markdown",
   "metadata": {},
   "source": [
    "The purpose of this project was to build a classification model that accurately categorizes the hurricanes strength and to find other variables that may play a role in determining the severity of a hurricane. The two main variables that were identified from this analysis were `Maximum Wind` and `Minimum Pressure`. While an accurate classification model was built, the presence of so many null values in a lot of the rows may explain why more significant indicators of the severity of a hurricane were not found. It was also identified that the `lifetime` of the hurricane could be a potential indicator of hte severity of the hurricane. While the `lifetime` of the hurricane seemed to have a slight effect on the `Category` of the hurricane, it was not very significant."
   ]
  },
  {
   "cell_type": "markdown",
   "metadata": {},
   "source": [
    "## References"
   ]
  },
  {
   "cell_type": "markdown",
   "metadata": {},
   "source": [
    "[1] https://www.dataschool.io/simple-guide-to-confusion-matrix-terminology/\n",
    "\n",
    "[2] Dataset from  https://www.kaggle.com/noaa/hurricane-database\n",
    "\n",
    "[3] https://weather.com/safety/hurricane/news/saffir-simpson-hurricane-wind-scale"
   ]
  }
 ],
 "metadata": {
  "kernelspec": {
   "display_name": "Python 3",
   "language": "python",
   "name": "python3"
  },
  "language_info": {
   "codemirror_mode": {
    "name": "ipython",
    "version": 3
   },
   "file_extension": ".py",
   "mimetype": "text/x-python",
   "name": "python",
   "nbconvert_exporter": "python",
   "pygments_lexer": "ipython3",
   "version": "3.6.5"
  }
 },
 "nbformat": 4,
 "nbformat_minor": 2
}
